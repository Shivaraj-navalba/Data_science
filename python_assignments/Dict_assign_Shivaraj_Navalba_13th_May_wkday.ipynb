{
 "cells": [
  {
   "cell_type": "code",
   "execution_count": 3,
   "metadata": {
    "id": "2k4ZB9yltJCa"
   },
   "outputs": [
    {
     "name": "stdout",
     "output_type": "stream",
     "text": [
      "{'email': 'tom_latham019@gmail.com', 'Phone': 1987654321, 'City': 'California'}\n",
      "\n",
      "{'email': 'kathy_abram897@gmail.com', 'Phone': 1887654321, 'City': 'New York'}\n"
     ]
    }
   ],
   "source": [
    "# Initialize a dictionary \"emp_info\" with below details\n",
    "# In - emp_info['Tom']\n",
    "# Out - {'email':'tom_latham019@gmail.com', 'Phone': +1987654321, 'City': 'California'}\n",
    "\n",
    "# In - emp_info['Kathy']\n",
    "# Out - {'email':'kathy_abram897@gmail.com', 'Phone': +1887654321, 'City': 'New York'}\n",
    "\n",
    "emp_info = {'Tom':{'email':'tom_latham019@gmail.com', 'Phone': +1987654321, 'City': 'California'},\n",
    "        'Kathy':{'email':'kathy_abram897@gmail.com', 'Phone': +1887654321, 'City': 'New York'}}\n",
    "print(emp_info['Tom'])\n",
    "print()\n",
    "print(emp_info['Kathy'])\n",
    "\n"
   ]
  },
  {
   "cell_type": "code",
   "execution_count": null,
   "metadata": {},
   "outputs": [],
   "source": []
  },
  {
   "cell_type": "code",
   "execution_count": 31,
   "metadata": {
    "id": "BAUj-S0fqFWG"
   },
   "outputs": [
    {
     "data": {
      "text/plain": [
       "{'emp1': {'e_name': 'John', 'e_id': 'SG101', 'e_sal': '$10,000'},\n",
       " 'emp2': {'e_name': 'Smith', 'e_id': 'SG102', 'e_sal': '$9,000'},\n",
       " 'emp3': {'e_name': 'Peter', 'e_id': 'SG103', 'e_sal': '$9,500'}}"
      ]
     },
     "execution_count": 31,
     "metadata": {},
     "output_type": "execute_result"
    }
   ],
   "source": [
    "# Create a dictionary out of below inputs\n",
    "lst1 = ['emp1', 'emp2', 'emp3']\n",
    "emp_key = ['e_name', 'e_id', 'e_sal']\n",
    "emp1_val = ['John', 'SG101', '$10,000']\n",
    "emp2_val = ['Smith', 'SG102', '$9,000']\n",
    "emp3_val = ['Peter', 'SG103', '$9,500']\n",
    "\n",
    "# Expected Output:- {'emp1':{'e_name':'John', 'e_id':'SG101', 'e_sal':$10,000}, \n",
    "#                    'emp2':{'e_name':'Smith', 'e_id':'SG102', 'e_sal':$9,000}, \n",
    "#                    'emp3':{'e_name':'Peter', 'e_id':'SG103', 'e_sal':$9,500}}\n",
    "\n",
    "dict1 = dict(zip(emp_key,emp1_val)), dict(zip(emp_key,emp2_val)), dict(zip(emp_key,emp3_val))\n",
    "\n",
    "dict2 = dict(zip(lst1,list(dict1)))\n",
    "dict2\n",
    "\n",
    "\n"
   ]
  },
  {
   "cell_type": "code",
   "execution_count": 32,
   "metadata": {
    "id": "LxGZ3jbjrBkj"
   },
   "outputs": [
    {
     "name": "stdout",
     "output_type": "stream",
     "text": [
      "80\n"
     ]
    }
   ],
   "source": [
    "# Acess the value of key 'history'\n",
    "\n",
    "sampleDict = { \n",
    "   \"class\":{ \n",
    "      \"student\":{ \n",
    "         \"name\":\"Mike\",\n",
    "         \"marks\":{ \n",
    "            \"physics\":70,\n",
    "            \"history\":80\n",
    "         }\n",
    "      }\n",
    "   }\n",
    "}\n",
    "\n",
    "print(sampleDict['class']['student']['marks']['history'])\n",
    "\n"
   ]
  },
  {
   "cell_type": "code",
   "execution_count": 44,
   "metadata": {
    "id": "Vm8UZbyNrKID"
   },
   "outputs": [
    {
     "data": {
      "text/plain": [
       "{'Kelly': {'designation': 'Application Developer', 'salary': 8000},\n",
       " 'Emma': {'designation': 'Application Developer', 'salary': 8000},\n",
       " 'John': {'designation': 'Application Developer', 'salary': 8000}}"
      ]
     },
     "execution_count": 44,
     "metadata": {},
     "output_type": "execute_result"
    }
   ],
   "source": [
    "# Initialize dictionary with default values. Inputs are:-\n",
    "# employees = ['Kelly', 'Emma', 'John']\n",
    "# defaults = {\"designation\": 'Application Developer', \"salary\": 8000}\n",
    "\n",
    "#Expected output:- {'Kelly': {'designation': 'Application Developer', 'salary': 8000}, \n",
    "#                   'Emma': {'designation': 'Application Developer', 'salary': 8000}, \n",
    "#                   'John': {'designation': 'Application Developer', 'salary': 8000}}\n",
    "\n",
    "employees = ['Kelly', 'Emma', 'John']\n",
    "defaults = {\"designation\": 'Application Developer', \"salary\": 8000}\n",
    "\n",
    "dict1 = defaults, defaults, defaults\n",
    "dict(zip(employees, list(dict1)))\n",
    "\n"
   ]
  },
  {
   "cell_type": "code",
   "execution_count": null,
   "metadata": {
    "id": "nmFdbaHBrThC"
   },
   "outputs": [],
   "source": [
    "# In gene expression, mRNA is transcribed from a DNA template. \n",
    "# The 4 nucleotide bases of A, T, C, G corresponds to the U, A, G, C bases of the mRNA. \n",
    "# Write a function that returns the mRNA transcript given the sequence of a DNA strand.\n",
    "\n",
    "# Use a dictionary to provide the mapping of DNA to RNA bases."
   ]
  },
  {
   "cell_type": "code",
   "execution_count": 12,
   "metadata": {
    "id": "rop1A1pQw6Uk"
   },
   "outputs": [
    {
     "name": "stdout",
     "output_type": "stream",
     "text": [
      "{'g': 2, 'o': 3, 'l': 1, 'e': 1, '.': 1, 'c': 1, 'm': 1}\n"
     ]
    }
   ],
   "source": [
    "# Write a function which takes a word as input and returns a dictionary with letters as key and no of time letters are repeated as value.\n",
    "# In - count_letter('google.com')\n",
    "# Out - {'g': 2, 'o': 3, 'l': 1, 'e': 1, '.': 1, 'c': 1, 'm': 1}\n",
    "\n",
    "from collections import Counter\n",
    "\n",
    "def count_letter(str1):\n",
    "    a = Counter(str1)\n",
    "    return str(a)\n",
    "\n",
    "count_letter('google.com')\n"
   ]
  },
  {
   "cell_type": "code",
   "execution_count": 15,
   "metadata": {},
   "outputs": [
    {
     "name": "stdout",
     "output_type": "stream",
     "text": [
      "Counter({'l': 3, 'o': 2, 'H': 1, 'e': 1, ' ': 1, 'w': 1, 'r': 1, 'd': 1})\n"
     ]
    }
   ],
   "source": [
    "string = \"Hello world\"\n",
    "\n",
    "from collections import Counter\n",
    "\n",
    "frequencies = Counter(string)\n",
    "print(str(frequencies))"
   ]
  },
  {
   "cell_type": "code",
   "execution_count": 1,
   "metadata": {
    "id": "vAwGIoxdw856"
   },
   "outputs": [
    {
     "name": "stdout",
     "output_type": "stream",
     "text": [
      "{'C': 8, 'T': 5, 'A': 4, 'G': 3}\n"
     ]
    }
   ],
   "source": [
    "# A DNA strand consisting of the 4 nucleotide bases is usually represented with a string of letters: A,T, C, G. \n",
    "# Write a function that computes the base composition of a given DNA sequence.\n",
    "\n",
    "# In - baseComposition(\"CTATCGGCACCCTTTCAGCA\")\n",
    "# Out - {'A': 4, 'C': 8, 'T': 5,  'G': 3 }\n",
    "    \n",
    "# In - baseComposition(\"AGT\")\n",
    "# Out - {'A': 1, 'C': 0, 'T': 1,  'G': 1 }\n",
    "\n",
    "str1 = 'CTATCGGCACCCTTTCAGCA'\n",
    "\n",
    "emp_str = {}\n",
    "  \n",
    "for i in str1:\n",
    "    if i in emp_str:\n",
    "        emp_str[i] += 1\n",
    "    else:\n",
    "        emp_str[i] = 1\n",
    "print(emp_str)"
   ]
  },
  {
   "cell_type": "code",
   "execution_count": 23,
   "metadata": {
    "id": "iVNnSsvaxMDo"
   },
   "outputs": [],
   "source": [
    "# [MCQ] Suppose \"d\" is an empty dictionary, which statement does not assign \"d\" with {\"Name\":\"Tom\"}? \n",
    "\n",
    "# 1. d = {\"Name\": \"Tom\" }\n",
    "# 2. d[\"Name\"] = \"Tom\"\n",
    "# 3. d.update({\"Name\": \"Tom\" })\n",
    "# 4. d.setdefault(\"Name\", \"Tom\")\n",
    "# 5. None of the above.\n",
    "\n",
    "# Ans: 5.None of the above.\n",
    "\n"
   ]
  },
  {
   "cell_type": "code",
   "execution_count": 29,
   "metadata": {
    "id": "tOgsXi2axnhF"
   },
   "outputs": [
    {
     "data": {
      "text/plain": [
       "('b', 2)"
      ]
     },
     "execution_count": 29,
     "metadata": {},
     "output_type": "execute_result"
    }
   ],
   "source": [
    "# [MCQ] d = {\"a\":1, \"b\":2}. Which of the statements returns [1,2]? \n",
    "\n",
    "# 1. d.keys()\n",
    "# 2. d.values()\n",
    "# 3. d.items()\n",
    "# 4. d.popitem()\n",
    "# 5. None of the above.\n",
    "\n",
    "# Ans: 2. d.values()\n",
    "\n"
   ]
  },
  {
   "cell_type": "code",
   "execution_count": null,
   "metadata": {
    "id": "BeNNopkDzK0k"
   },
   "outputs": [],
   "source": [
    "# [MCQ] Which of the following declarations is not valid for 'dict' type?\n",
    "# 1. d = {\"Name\": \"Tom\" }\n",
    "# 2. d = { (1,3,4): 4.5 }\n",
    "# 3. d = { [\"First\", \"Last\"]: (1,3) }\n",
    "# 4. d = { 1: 0.4 }\n",
    "# 5. None of the above\n",
    "\n",
    "# Ans: d = { [\"First\", \"Last\"]: (1,3) }"
   ]
  },
  {
   "cell_type": "code",
   "execution_count": 6,
   "metadata": {
    "id": "7kPbKcfMzTHP"
   },
   "outputs": [
    {
     "name": "stdout",
     "output_type": "stream",
     "text": [
      "[1, 2, 2]\n",
      "['a']\n"
     ]
    }
   ],
   "source": [
    "# Write a function reverseLookup(dictionary, value) that takes in a dictionary \n",
    "# and a value as arguments and returns a sorted list of all keys that contains the value. \n",
    "# The function will return an empty list if no match is found.\n",
    "\n",
    "# In - reverseLookup({'a':1, 'b':2, 'c':2}, 1)\n",
    "# Out - ['a']\n",
    "# In - reverseLookup({'a':1, 'b':2, 'c':2}, 2)\n",
    "# Out - ['b', 'c']\n",
    "# In - reverseLookup({'a':1, 'b':2, 'c':2}, 3)\n",
    "# Out - []\n",
    "\n",
    "def reverseLookup(dict1, value):\n",
    "    key_lst = list(dict1.keys())\n",
    "#     print(key_lst)\n",
    "    values_lst = list(dict1.values())\n",
    "#     print(values_lst)\n",
    "    out_lst = []\n",
    "    pos = -1\n",
    "    for val in values_lst:\n",
    "        try:\n",
    "            pos = values_lst.index(value, pos+1)\n",
    "        except ValueError:\n",
    "            break\n",
    "        out_lst.append(key_lst[pos])\n",
    "    out_lst.sort()\n",
    "\n",
    "    return out_lst\n",
    "print(reverseLookup({'a':1, 'b':2, 'c':2}, 1))"
   ]
  },
  {
   "cell_type": "code",
   "execution_count": 3,
   "metadata": {
    "id": "s87Rvg2HDFYp"
   },
   "outputs": [
    {
     "data": {
      "text/plain": [
       "{1: ['a'], 2: ['b', 'd'], 3: ['c']}"
      ]
     },
     "execution_count": 3,
     "metadata": {},
     "output_type": "execute_result"
    }
   ],
   "source": [
    "# Write a function invertDictionary(d) that takes in a dictionary as argument and return a dictionary \n",
    "# that inverts the keys and the values of the original dictionary.\n",
    "# In - invertDictionary({'a':1, 'b':2, 'c':3, 'd':2})\n",
    "# Out - {1: ['a'], 2: ['b', 'd'], 3: ['c']}\n",
    "# In - invertDictionary({'a':3, 'b':3, 'c':3})\n",
    "# Out - {3: ['a', 'c', 'b']}\n",
    "# In - invertDictionary({'a':2, 'b':1, 'c':2, 'd':1})\n",
    "# Out - {1: ['b', 'd'], 2: ['a', 'c']}\n",
    "\n",
    "\n",
    "def invertDictionary(dict1):\n",
    "    key = list(dict1.keys())\n",
    "    value = list(dict1.values())\n",
    "    out_dic = {}\n",
    "    for i in value:\n",
    "        if i in out_dic:\n",
    "            out_dic[i].append(key[value.index(i)])\n",
    "            value[value.index(i)] = None\n",
    "        elif i == None:\n",
    "            continue\n",
    "        else:\n",
    "            out_dic[i] = [key[value.index(i)]]\n",
    "            value[value.index(i)] = None\n",
    "    return out_dic\n",
    "        \n",
    "\n",
    "invertDictionary({'a':1, 'b':2, 'c':3, 'd':2})  "
   ]
  },
  {
   "cell_type": "code",
   "execution_count": 94,
   "metadata": {
    "id": "DgYyaZU6Oz7E"
   },
   "outputs": [
    {
     "data": {
      "text/plain": [
       "{0: 1, 2: 1, 4: 2, 6: 1, 9: 1}"
      ]
     },
     "execution_count": 94,
     "metadata": {},
     "output_type": "execute_result"
    }
   ],
   "source": [
    "# Write a function that converts a sparse vector into a dictionary as described above.\n",
    "# In - convertVector([1, 0, 0, 2, 0, 0, 0, 3, 0, 0, 0, 0, 4])\n",
    "# Out - {0: 1, 3: 2, 7: 3, 12: 4}\n",
    "# In - convertVector([1, 0, 1 , 0, 2, 0, 1, 0, 0, 1, 0])\n",
    "# Out - {0: 1, 2: 1, 4: 2, 6: 1, 9: 1}\n",
    "# In - convertVector([0, 0, 0, 0, 0])\n",
    "# Out - {}\n",
    "\n",
    "dict([i for i in enumerate([1, 0, 1 , 0, 2, 0, 1, 0, 0, 1, 0]) if i[-1] != 0])"
   ]
  },
  {
   "cell_type": "code",
   "execution_count": 95,
   "metadata": {
    "id": "ETCmEcflTGCI"
   },
   "outputs": [
    {
     "data": {
      "text/plain": [
       "[1, 0, 0, 2, 0, 0, 0, 3, 0, 0, 0, 0, 4]"
      ]
     },
     "execution_count": 95,
     "metadata": {},
     "output_type": "execute_result"
    }
   ],
   "source": [
    "# Write a function that converts a dictionary back to its sparse vector representation.\n",
    "# In - convertDictionary({0: 1, 3: 2, 7: 3, 12: 4})\n",
    "# Out - [1, 0, 0, 2, 0, 0, 0, 3, 0, 0, 0, 0, 4]\n",
    "# In - convertDictionary({0: 1, 2: 1, 4: 2, 6: 1, 9: 1})\n",
    "# Out - [1, 0, 1, 0, 2, 0, 1, 0, 0, 1]\n",
    "# In - convertDictionary({})\n",
    "# Out - []\n",
    "\n",
    "def convertDictionary(dictionary): \n",
    "    key_lst = list(dictionary.keys())\n",
    "    val_lst = list(dictionary.values())\n",
    "    max_key = max(key_lst)\n",
    "    out_lst = [0] * (max_key+1)\n",
    "    pos = -1\n",
    "    for ind in key_lst:\n",
    "        try:\n",
    "            pos = key_lst.index(ind, pos+1)\n",
    "        except ValueError:\n",
    "            break\n",
    "        out_lst[ind] = val_lst[pos]\n",
    "    return out_lst\n",
    "\n",
    "convertDictionary({0: 1, 3: 2, 7: 3, 12: 4})"
   ]
  },
  {
   "cell_type": "code",
   "execution_count": 93,
   "metadata": {
    "id": "tTANm2QKZXh3"
   },
   "outputs": [
    {
     "ename": "TypeError",
     "evalue": "'bool' object is not iterable",
     "output_type": "error",
     "traceback": [
      "\u001b[0;31m---------------------------------------------------------------------------\u001b[0m",
      "\u001b[0;31mTypeError\u001b[0m                                 Traceback (most recent call last)",
      "\u001b[0;32m<ipython-input-93-27acca7f7241>\u001b[0m in \u001b[0;36m<module>\u001b[0;34m\u001b[0m\n\u001b[1;32m     33\u001b[0m \u001b[0;34m\u001b[0m\u001b[0m\n\u001b[1;32m     34\u001b[0m \u001b[0;34m\u001b[0m\u001b[0m\n\u001b[0;32m---> 35\u001b[0;31m \u001b[0mchange_sal\u001b[0m\u001b[0;34m(\u001b[0m\u001b[0msampleDict\u001b[0m\u001b[0;34m)\u001b[0m\u001b[0;34m\u001b[0m\u001b[0;34m\u001b[0m\u001b[0m\n\u001b[0m\u001b[1;32m     36\u001b[0m \u001b[0;34m\u001b[0m\u001b[0m\n",
      "\u001b[0;32m<ipython-input-93-27acca7f7241>\u001b[0m in \u001b[0;36mchange_sal\u001b[0;34m(dict1)\u001b[0m\n\u001b[1;32m     26\u001b[0m         \u001b[0;32mfor\u001b[0m \u001b[0mk\u001b[0m \u001b[0;32min\u001b[0m \u001b[0mkey_lst2\u001b[0m\u001b[0;34m:\u001b[0m\u001b[0;34m\u001b[0m\u001b[0;34m\u001b[0m\u001b[0m\n\u001b[1;32m     27\u001b[0m             \u001b[0;32mif\u001b[0m \u001b[0mdict1\u001b[0m\u001b[0;34m[\u001b[0m\u001b[0mi\u001b[0m\u001b[0;34m]\u001b[0m\u001b[0;34m[\u001b[0m\u001b[0mk\u001b[0m\u001b[0;34m]\u001b[0m \u001b[0;34m==\u001b[0m \u001b[0;34m'Brad'\u001b[0m\u001b[0;34m:\u001b[0m\u001b[0;34m\u001b[0m\u001b[0;34m\u001b[0m\u001b[0m\n\u001b[0;32m---> 28\u001b[0;31m                 \u001b[0mdict1\u001b[0m\u001b[0;34m.\u001b[0m\u001b[0mupdate\u001b[0m\u001b[0;34m(\u001b[0m\u001b[0;34m'salary'\u001b[0m \u001b[0;34m==\u001b[0m \u001b[0;36m8500\u001b[0m\u001b[0;34m)\u001b[0m\u001b[0;34m\u001b[0m\u001b[0;34m\u001b[0m\u001b[0m\n\u001b[0m\u001b[1;32m     29\u001b[0m \u001b[0;34m\u001b[0m\u001b[0m\n\u001b[1;32m     30\u001b[0m     \u001b[0;32mreturn\u001b[0m \u001b[0msampleDict\u001b[0m\u001b[0;34m\u001b[0m\u001b[0;34m\u001b[0m\u001b[0m\n",
      "\u001b[0;31mTypeError\u001b[0m: 'bool' object is not iterable"
     ]
    }
   ],
   "source": [
    "# Given a Python dictionary, Change Brad’s salary to 8500\n",
    "# sampleDict = {\n",
    "#      'emp1': {'name': 'Jhon', 'salary': 7500},\n",
    "#      'emp2': {'name': 'Emma', 'salary': 8000},\n",
    "#      'emp3': {'name': 'Brad', 'salary': 6500}\n",
    "# }\n",
    "\n",
    "# Expected Output\n",
    "# sampleDict = {\n",
    "#      'emp1': {'name': 'Jhon', 'salary': 7500},\n",
    "#      'emp2': {'name': 'Emma', 'salary': 8000},\n",
    "#      'emp3': {'name': 'Brad', 'salary': 8500}\n",
    "# }\n",
    "\n",
    "sampleDict = {\n",
    "     'emp1': {'name': 'Jhon', 'salary': 7500},\n",
    "     'emp2': {'name': 'Emma', 'salary': 8000},\n",
    "     'emp3': {'name': 'Brad', 'salary': 6500}\n",
    "}\n",
    "\n",
    "\n",
    "def change_sal(dict1):\n",
    "    key_lst1 = list(dict1.keys())\n",
    "    for i in key_lst1:\n",
    "        key_lst2 = list(dict1[i].keys())\n",
    "        for k in key_lst2:\n",
    "            if dict1[i][k] == 'Brad':\n",
    "                dict1.update('salary' == 8500)\n",
    "\n",
    "    return sampleDict\n",
    "                \n",
    "    \n",
    "    \n",
    "    \n",
    "change_sal(sampleDict)\n",
    "    \n"
   ]
  },
  {
   "cell_type": "code",
   "execution_count": 31,
   "metadata": {
    "id": "8dUHXiCVZmUx"
   },
   "outputs": [
    {
     "data": {
      "text/plain": [
       "'Math'"
      ]
     },
     "execution_count": 31,
     "metadata": {},
     "output_type": "execute_result"
    }
   ],
   "source": [
    "# Get the key corresponding to the minimum value from the following dictionary\n",
    "sampleDict = {\n",
    "  'Physics': 82,\n",
    "  'Math': 65,\n",
    "  'history': 75\n",
    "}\n",
    "\n",
    "# Expected Output\n",
    "# Math\n",
    "\n",
    "\n",
    "def mini(dict1):\n",
    "    key = list(dict1.values())\n",
    "    key.sort()\n",
    "    for i in dict1:\n",
    "        if dict1[i] == key[0]:\n",
    "            return i\n",
    "\n",
    "\n",
    "mini(sampleDict)\n",
    "    \n"
   ]
  },
  {
   "cell_type": "code",
   "execution_count": 35,
   "metadata": {
    "id": "AQe5QNGdZ7aJ"
   },
   "outputs": [
    {
     "data": {
      "text/plain": [
       "{'name': 'Kelly', 'age': 25, 'salary': 8000, 'location': 'New york'}"
      ]
     },
     "execution_count": 35,
     "metadata": {},
     "output_type": "execute_result"
    }
   ],
   "source": [
    "# Rename key city to location in the following dictionary\n",
    "sampleDict = {\n",
    "  \"name\": \"Kelly\",\n",
    "  \"age\":25,\n",
    "  \"salary\": 8000,\n",
    "  \"city\": \"New york\"\n",
    "}\n",
    "\n",
    "# Expected Output\n",
    "# {\n",
    "#   \"name\": \"Kelly\",\n",
    "#   \"age\":25,\n",
    "#   \"salary\": 8000,\n",
    "#   \"location\": \"New york\"\n",
    "# }\n",
    "\n",
    "\n",
    "\n",
    "new_key = 'location'\n",
    "old_key = 'city'\n",
    "sampleDict[new_key] = sampleDict[old_key]\n",
    "del sampleDict[old_key]\n",
    "\n",
    "sampleDict\n"
   ]
  },
  {
   "cell_type": "code",
   "execution_count": 38,
   "metadata": {
    "id": "e19_ddO9aNNw"
   },
   "outputs": [
    {
     "name": "stdout",
     "output_type": "stream",
     "text": [
      "True\n"
     ]
    }
   ],
   "source": [
    "# Check if a value 200 exists in a dictionary\n",
    "sampleDict = {'a': 100, 'b': 200, 'c': 300}\n",
    "\n",
    "# Expected Output: True\n",
    "\n",
    "\n",
    "for i in sampleDict:\n",
    "    if sampleDict[i] == 200:\n",
    "        print('True')"
   ]
  },
  {
   "cell_type": "code",
   "execution_count": 21,
   "metadata": {
    "id": "yphwjc1gabMa"
   },
   "outputs": [
    {
     "data": {
      "text/plain": [
       "{'age': 25, 'city': 'New york'}"
      ]
     },
     "execution_count": 21,
     "metadata": {},
     "output_type": "execute_result"
    }
   ],
   "source": [
    "# Delete set of keys from Python Dictionary\n",
    "sampleDict = {\n",
    "  \"name\": \"Kelly\",\n",
    "  \"age\":25,\n",
    "  \"salary\": 8000,\n",
    "  \"city\": \"New york\"\n",
    "  \n",
    "}\n",
    "# keysToRemove = [\"name\", \"salary\"]\n",
    "\n",
    "# Expected Output:\n",
    "# {'city': 'New york', 'age': 25}\n",
    "\n",
    "\n",
    "lst = ['name', 'salary']\n",
    "for i in lst:\n",
    "    sampleDict.pop(i)\n",
    "sampleDict"
   ]
  }
 ],
 "metadata": {
  "colab": {
   "name": "Dictionary_Assignment.ipynb",
   "provenance": []
  },
  "kernelspec": {
   "display_name": "Python 3",
   "language": "python",
   "name": "python3"
  },
  "language_info": {
   "codemirror_mode": {
    "name": "ipython",
    "version": 3
   },
   "file_extension": ".py",
   "mimetype": "text/x-python",
   "name": "python",
   "nbconvert_exporter": "python",
   "pygments_lexer": "ipython3",
   "version": "3.8.5"
  }
 },
 "nbformat": 4,
 "nbformat_minor": 1
}
