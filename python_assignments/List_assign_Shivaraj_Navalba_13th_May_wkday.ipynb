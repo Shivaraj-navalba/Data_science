{
 "cells": [
  {
   "cell_type": "code",
   "execution_count": 1,
   "metadata": {
    "id": "gtlAv2oq9yzd"
   },
   "outputs": [
    {
     "name": "stdout",
     "output_type": "stream",
     "text": [
      "100\n"
     ]
    }
   ],
   "source": [
    "#Write a Python program to find the sum of all elements in a list using loop.\n",
    "#Input:- [10,20,30,40]\n",
    "#Output:- 100\n",
    "\n",
    "Input = [10,20,30,40]\n",
    "count = 0\n",
    "for i in Input:\n",
    "    count += i\n",
    "print(count)\n",
    "\n",
    "\n"
   ]
  },
  {
   "cell_type": "code",
   "execution_count": 3,
   "metadata": {
    "id": "gTbA8psa93Y_"
   },
   "outputs": [
    {
     "name": "stdout",
     "output_type": "stream",
     "text": [
      "240000\n"
     ]
    }
   ],
   "source": [
    "#Write a Python program to find the multiplication of all elements in a list using loop.\n",
    "#Input:- [10,20,30,40]\n",
    "#Output:- 240000\n",
    "\n",
    "Input = [10,20,30,40]\n",
    "count = 1\n",
    "for i in Input:\n",
    "    count *= i\n",
    "print(count)\n",
    "\n",
    "\n"
   ]
  },
  {
   "cell_type": "code",
   "execution_count": 20,
   "metadata": {
    "id": "XBCrEtLN94Lj"
   },
   "outputs": [
    {
     "name": "stdout",
     "output_type": "stream",
     "text": [
      "2321\n"
     ]
    }
   ],
   "source": [
    "#Write a Python program to find the largest number from a list using loop.\n",
    "#Input:- [10,100,2321, 1,200,2]\n",
    "#Output:- 2321\n",
    " \n",
    "lst =[10, 100, 2321, 1, 200, 2]\n",
    "\n",
    "for i in range(len(lst)):\n",
    "    if lst[i] == max(lst):\n",
    "        print(lst[i])\n"
   ]
  },
  {
   "cell_type": "code",
   "execution_count": 40,
   "metadata": {
    "id": "l3paUtbH94Vw"
   },
   "outputs": [
    {
     "name": "stdout",
     "output_type": "stream",
     "text": [
      "1\n"
     ]
    }
   ],
   "source": [
    "#Write a Python program to find the smallest number from a list using loop.\n",
    "#Input:- [10,100,2321, 1,200,2]\n",
    "#Output:- 1\n",
    "\n",
    "lst =[10, 100, 2321, 1, 200, 2]\n",
    "\n",
    "for i in range(len(lst)):\n",
    "    if lst[i] == min(lst):\n",
    "        print(lst[i])\n",
    "\n",
    "\n"
   ]
  },
  {
   "cell_type": "code",
   "execution_count": 17,
   "metadata": {
    "id": "JTVgy5VD94cE"
   },
   "outputs": [],
   "source": [
    "#Write a Python program to count the number of strings having length more than 2 and are palindrome in a list using loop.\n",
    "#Input:- ['ab', 'abc', 'aba', 'xyz', '1991']\n",
    "#Output:- 2\n",
    "\n",
    "lst =['ab', 'abc', 'aba', 'xyz', '1991']\n"
   ]
  },
  {
   "cell_type": "code",
   "execution_count": 44,
   "metadata": {
    "id": "xs-ZGJbJ94gr"
   },
   "outputs": [
    {
     "name": "stdout",
     "output_type": "stream",
     "text": [
      "[1, 2, 9, 10, 65, 80, 100, 298, 483, 9213, 49876]\n"
     ]
    }
   ],
   "source": [
    "#Write a Python program to sort a list in ascending order using loop.\n",
    "#Input:- [100,10,1,298,65,483,49876,2,80,9,9213]\n",
    "#Output:- [1,2,9,10,65,80,100,298,483,9213,49876]\n",
    "\n",
    "lst = [100,10,1,298,65,483,49876,2,80,9,9213]\n",
    "lst1 = []\n",
    "i = 0\n",
    "while (i < len(lst)):\n",
    "    lst1.append(lst[i])\n",
    "    i += 1\n",
    "lst2 = []\n",
    "k = 0\n",
    "while (k <len(lst)):\n",
    "    a = min(lst1)\n",
    "    lst2.append(a)\n",
    "    lst1.remove(a)\n",
    "    k += 1\n",
    "print(lst2)\n",
    "    \n"
   ]
  },
  {
   "cell_type": "code",
   "execution_count": 34,
   "metadata": {
    "id": "VhKQJizZ94kg"
   },
   "outputs": [
    {
     "name": "stdout",
     "output_type": "stream",
     "text": [
      "[(9, 1), (2, 3), (5, 4), (5, 5), (7, 6), (5, 9)]\n"
     ]
    }
   ],
   "source": [
    "#Write a Python program to get a sorted list in increasing order of last element in each tuple in a given list using loop.\n",
    "#Input:- [(5,4),(9,1),(2,3),(5,9),(7,6),(5,5)]\n",
    "#output:- [(9,1),(2,3),(5,4),(5,5),(7,6),(5,9)]\n",
    "\n",
    "tup = [(5,4),(9,1),(2,3),(5,9),(7,6),(5,5)]\n",
    "\n",
    "lst_len = len(tup)\n",
    "for i in range(0, lst_len):  \n",
    "    for j in range(0, lst_len-i-1):  \n",
    "        if (tup[j][-1] > tup[j + 1][-1]):  \n",
    "            temp = tup[j]  \n",
    "            tup[j]= tup[j + 1]  \n",
    "            tup[j + 1]= temp  \n",
    "print(tup)\n",
    "\n",
    "\n"
   ]
  },
  {
   "cell_type": "code",
   "execution_count": 53,
   "metadata": {
    "id": "YJrCLYp694n_"
   },
   "outputs": [
    {
     "name": "stdout",
     "output_type": "stream",
     "text": [
      "\n",
      "\n",
      "\n",
      "\n",
      "\n",
      "\n",
      "[10, 1, 11, 29, 876, 768, 92]\n"
     ]
    }
   ],
   "source": [
    "#Write a Python program to remove duplicate element from a list using loop.\n",
    "#Input:- [10,1,11,1,29,876,768,10,11,1,92,29,876]\n",
    "#Output:- [10,1,11,29,876,768,92]\n",
    "\n",
    "lst = [10,1,11,1,29,876,768,10,11,1,92,29,876]\n",
    "lst2 = []\n",
    "for i in lst:\n",
    "    if i in lst2:\n",
    "        print()\n",
    "    else:\n",
    "        lst2.append(i)\n",
    "print(lst2)"
   ]
  },
  {
   "cell_type": "code",
   "execution_count": 57,
   "metadata": {
    "id": "koYe4YCu94rh"
   },
   "outputs": [
    {
     "name": "stdout",
     "output_type": "stream",
     "text": [
      "List is empty\n",
      "List is not empty\n"
     ]
    }
   ],
   "source": [
    "#Write a Python program to check a list is empty or not?\n",
    "#Input:- []\n",
    "#Output:- List is empty\n",
    "#Input:- [10,20,30]\n",
    "#Output:- List is not empty\n",
    "\n",
    "lst = []\n",
    "if len(lst) == 0:\n",
    "    print('List is empty')\n",
    "else:\n",
    "    print('List is not empty')\n",
    "    \n",
    "lst = [10,20,30]\n",
    "if len(lst) == 0:\n",
    "    print('List is empty')\n",
    "else:\n",
    "    print('List is not empty')\n"
   ]
  },
  {
   "cell_type": "code",
   "execution_count": 61,
   "metadata": {
    "id": "mES1WANa94u5"
   },
   "outputs": [
    {
     "name": "stdout",
     "output_type": "stream",
     "text": [
      "[10, 10.2, (10+20j), 'Python', [10, 20], (10, 20)]\n",
      "\n",
      "[10, 10.2, (10+20j), 'Python', [10, 20], (10, 20)]\n"
     ]
    }
   ],
   "source": [
    "#Write a Python program to copy a list using loop.\n",
    "#inp_lst = [10,10.20,10+20j, 'Python', [10,20], (10,20)]\n",
    "#out_lst = [10,10.20,10+20j, 'Python', [10,20], (10,20)]\n",
    "\n",
    "lst = [10, 10.20, 10+20j, 'Python', [10,20], (10,20)]\n",
    "print(lst)\n",
    "print()\n",
    "#Code to copy the lst\n",
    "lst2 = []\n",
    "for i in lst:\n",
    "    lst2.append(i)\n",
    "print(lst2)\n"
   ]
  },
  {
   "cell_type": "code",
   "execution_count": 71,
   "metadata": {
    "id": "CpBh31WO94yi"
   },
   "outputs": [
    {
     "name": "stdout",
     "output_type": "stream",
     "text": [
      "['much', 'wood', 'would', 'woodchuck', 'chuck', 'could']\n"
     ]
    }
   ],
   "source": [
    "#Write a Python program to find the list of words that are longer than or equal to 4 from a given string.\n",
    "#Input:- 'How much wood would a woodchuck chuck if a woodchuck could chuck wood'\n",
    "#Output:- ['much', 'wood', 'would', 'woodchuck', 'chuck', 'could']\n",
    "#Note:- Duplicate should be avoided.\n",
    "\n",
    "str = 'How much wood would a woodchuck chuck if a woodchuck could chuck wood'\n",
    "lst = str.split()\n",
    "lst2 = []\n",
    "\n",
    "for i in range(len(lst)):\n",
    "    a = len(lst[i])\n",
    "    if (a) >= 4:\n",
    "        if lst[i] in lst2:\n",
    "            pass\n",
    "        else:\n",
    "            lst2.append(lst[i])\n",
    "print(lst2)\n",
    "    \n",
    "\n",
    "\n",
    "\n"
   ]
  },
  {
   "cell_type": "code",
   "execution_count": 78,
   "metadata": {
    "id": "YVfj0fgZ9416"
   },
   "outputs": [
    {
     "name": "stdout",
     "output_type": "stream",
     "text": [
      "True\n"
     ]
    }
   ],
   "source": [
    "#Write a Python program which takes two list as input and returns True if they have at least 3 common elements.\n",
    "#inp_lst1 = [10,20,'Python', 10.20, 10+20j, [10,20,30], (10,20,30)]\n",
    "#inp_lst2 = [(10,20,30),1,20+3j,100.2, 10+20j, [10,20,30],'Python']\n",
    "#Output:- True\n",
    "\n",
    "ip_lst = [10,20,'Python', 10.20, 10+20j, [10,20,30], (10,20,30)]\n",
    "ip_lst2 = [(10,20,30),1,20+3j,100.2, 10+20j, [10,20,30],'Python']\n",
    "\n",
    "count = 0\n",
    "for i in ip_lst:\n",
    "    if (i in ip_lst):\n",
    "        count += 1\n",
    "if count >= 3:\n",
    "    print('True')\n",
    "\n",
    "\n"
   ]
  },
  {
   "cell_type": "code",
   "execution_count": 15,
   "metadata": {
    "id": "7vwc3pjR945O"
   },
   "outputs": [
    {
     "data": {
      "text/plain": [
       "[[0, 0, 0, 0], [0, 1, 2, 3], [0, 2, 4, 6], [0, 3, 6, 9]]"
      ]
     },
     "execution_count": 15,
     "metadata": {},
     "output_type": "execute_result"
    }
   ],
   "source": [
    "#Write a Python program to create a 4X4 2D matrix with below elements using loop and list comprehension both.\n",
    "#Output:- [[0,0,0,0],[0,1,2,3],[0,2,4,6],[0,3,6,9]]\n",
    "\n",
    "lst = []\n",
    "for i in range(4):\n",
    "    lst2 = []\n",
    "    for k in range(4):\n",
    "        lst2.append(i*k)\n",
    "    lst.append(lst2)\n",
    "lst"
   ]
  },
  {
   "cell_type": "code",
   "execution_count": 13,
   "metadata": {
    "id": "Pxafor84948b"
   },
   "outputs": [
    {
     "data": {
      "text/plain": [
       "[[[0, 0, 0, 0, 0, 0],\n",
       "  [0, 0, 0, 0, 0, 0],\n",
       "  [0, 0, 0, 0, 0, 0],\n",
       "  [0, 0, 0, 0, 0, 0]],\n",
       " [[0, 0, 0, 0, 0, 0],\n",
       "  [1, 1, 1, 1, 1, 1],\n",
       "  [2, 2, 2, 2, 2, 2],\n",
       "  [3, 3, 3, 3, 3, 3]],\n",
       " [[0, 0, 0, 0, 0, 0],\n",
       "  [2, 2, 2, 2, 2, 2],\n",
       "  [4, 4, 4, 4, 4, 4],\n",
       "  [6, 6, 6, 6, 6, 6]]]"
      ]
     },
     "execution_count": 13,
     "metadata": {},
     "output_type": "execute_result"
    }
   ],
   "source": [
    "#Write a Python program to create a 3X4X6 3D matrix wiith below elements using loop\n",
    "#Output:- \n",
    "# [\n",
    "#     [[0,0,0,0,0,0],[0,0,0,0,0,0],[0,0,0,0,0,0],[0,0,0,0,0,0]],\n",
    "#     [[0,0,0,0,0,0],[1,1,1,1,1,1],[2,2,2,2,2,2],[3,3,3,3,3,3]],\n",
    "#     [[0,0,0,0,0,0],[2,2,2,2,2,2],[4,4,4,4,4,4],[6,6,6,6,6,6]]\n",
    "# ]\n",
    "\n",
    "\n",
    "lst = []\n",
    "for i in range(3):\n",
    "    in_lst1 = []\n",
    "    for j in range(4):\n",
    "        in_lst2 = []\n",
    "        for k in range(6):\n",
    "            in_lst2.append(i*j)\n",
    "        in_lst1.append(in_lst2)\n",
    "    lst.append(in_lst1)\n",
    "lst\n",
    "\n"
   ]
  },
  {
   "cell_type": "code",
   "execution_count": 80,
   "metadata": {
    "id": "lYNv8gk794_p"
   },
   "outputs": [
    {
     "name": "stdout",
     "output_type": "stream",
     "text": [
      "[21, 87, 45, 33, 1]\n"
     ]
    }
   ],
   "source": [
    "#Write a Python program which takes a list of numbers as input and prints a new list after removing even numbers from it.\n",
    "#Input:- [10,21,22,98,87,45,33,1,2,100]\n",
    "#Output:- [21,87,45,33,1]\n",
    "\n",
    "lst = [10,21,22,98,87,45,33,1,2,100]\n",
    "lst2 = []\n",
    "for i in lst:\n",
    "    if i%2 == 0:\n",
    "        pass\n",
    "    else:\n",
    "        lst2.append(i)\n",
    "print(lst2)\n",
    "\n"
   ]
  },
  {
   "cell_type": "code",
   "execution_count": 6,
   "metadata": {
    "id": "3BaCb-rB95B7"
   },
   "outputs": [
    {
     "name": "stdout",
     "output_type": "stream",
     "text": [
      "The shuffled list is : [22, 10, 1, 100, 2, 21, 33, 98, 87, 45]\n"
     ]
    }
   ],
   "source": [
    "#Write a Python program which takes a list from the user and prints it after reshuffling the elements of the list.\n",
    "#Input:- [10,21,22,98,87,45,33,1,2,100]\n",
    "#Output:- [1,87,21,10,33,2,100,45,98,22] (It may be any randon list but with same elements)\n",
    "\n",
    "import random\n",
    "  \n",
    "list = [10,21,22,98,87,45,33,1,2,100]\n",
    "  \n",
    "# using Fisher–Yates shuffle Algorithm\n",
    "# to shuffle a list\n",
    "for i in range(len(list)-1, 0, -1):\n",
    "      \n",
    "    # Pick a random index from 0 to i \n",
    "    j = random.randint(0, i + 1) \n",
    "    \n",
    "    # Swap arr[i] with the element at random index \n",
    "    list[i], list[j] = list[j], list[i] \n",
    "      \n",
    "# Printing shuffled list \n",
    "print (\"The shuffled list is : \" + str(list))\n"
   ]
  },
  {
   "cell_type": "code",
   "execution_count": null,
   "metadata": {},
   "outputs": [],
   "source": []
  }
 ],
 "metadata": {
  "colab": {
   "name": "List_Assignment.ipynb",
   "provenance": []
  },
  "kernelspec": {
   "display_name": "Python 3",
   "language": "python",
   "name": "python3"
  },
  "language_info": {
   "codemirror_mode": {
    "name": "ipython",
    "version": 3
   },
   "file_extension": ".py",
   "mimetype": "text/x-python",
   "name": "python",
   "nbconvert_exporter": "python",
   "pygments_lexer": "ipython3",
   "version": "3.8.5"
  }
 },
 "nbformat": 4,
 "nbformat_minor": 1
}
