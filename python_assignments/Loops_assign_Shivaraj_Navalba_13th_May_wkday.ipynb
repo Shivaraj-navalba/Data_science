{
 "cells": [
  {
   "cell_type": "code",
   "execution_count": 14,
   "metadata": {},
   "outputs": [
    {
     "name": "stdout",
     "output_type": "stream",
     "text": [
      "Enter the number between 0 to 9: 9\n",
      "nine\n"
     ]
    }
   ],
   "source": [
    "# Q. W. A P. which takes one number from 0 to 9 from the user and prints\n",
    "# it in the word. And if the word is not from 0 to 9 then\n",
    "# it should print that number is outside of the range and program should\n",
    "# exit.\n",
    "# For exapmple:-\n",
    "# input = 1\n",
    "# output = one\n",
    "\n",
    "number = int(input(\"Enter the number between 0 to 9: \"))\n",
    "if (number > 0) and (number <= 9):\n",
    "    if (number == 0):\n",
    "        print('zero')\n",
    "    elif (number == 1):\n",
    "        print('one')\n",
    "    elif (number == 2):\n",
    "        print('two')\n",
    "    elif (number == 3):\n",
    "        print('three')\n",
    "    elif (number == 4):\n",
    "        print('Four')\n",
    "    elif (number == 5):\n",
    "        print('Five')\n",
    "    elif (number == 6):\n",
    "        print('six')\n",
    "    elif (number == 7):\n",
    "        print('seven')\n",
    "    elif (number == 8):\n",
    "        print('eight')\n",
    "    elif (number == 9):\n",
    "        print('nine')\n",
    "else :\n",
    "    print('Enterd number is out of range')"
   ]
  },
  {
   "cell_type": "code",
   "execution_count": 23,
   "metadata": {},
   "outputs": [],
   "source": [
    "# Q. W. A P. to implement calculator but the operation to be done and two\n",
    "# numbers will be taken as input from user:-\n",
    "# Operation console should show below:-\n",
    "#  Please select any one operation from below:-\n",
    "#  * To add enter 1\n",
    "#  * to subtract enter 2\n",
    "#  * To multiply enter 3\n",
    "#  * To divide enter 4\n",
    "#  * To divide and find quotient enter 5\n",
    "#  * To divide and find remainder enter 6\n",
    "#  * To divide and find num1 to the power of num2 enter 7\n",
    "#  * To Come out of the program enter 8\n",
    "\n",
    "num1 = float(input(\"Enter the first number: \"))\n",
    "num2 = float(input(\"Enter the second number: \"))\n",
    "print()\n",
    "x = int(input('''Choose the operation you want perform  \n",
    "                        1 - Addition\n",
    "                        2 - subtraction\n",
    "                        3 - Multiplication\n",
    "                        4 - Divison\n",
    "                        5 - Quotient\n",
    "                        6 - Reminder\n",
    "                        7 - Exponet\n",
    "                        8 - Exit'''))\n",
    "if (x == 1):\n",
    "    print(num1 + num2)\n",
    "elif (x == 2):\n",
    "    print(num1 - num2)\n",
    "elif (x == 3):\n",
    "    print(num1 * num2)\n",
    "elif (x == 4):\n",
    "    print(num1 / num2)\n",
    "elif (x == 5):\n",
    "    print(num1 // num2)\n",
    "elif (x == 6):\n",
    "    print(num1 % num2)  \n",
    "elif (x == 7):\n",
    "    print(num1 ** num2)\n",
    "elif (x == 8):\n",
    "    print(\"Exit -Thanks for using app\")\n",
    "        "
   ]
  },
  {
   "cell_type": "code",
   "execution_count": 2,
   "metadata": {},
   "outputs": [
    {
     "name": "stdout",
     "output_type": "stream",
     "text": [
      "Enter an year: 1800\n",
      "Year is not a leap Year\n"
     ]
    }
   ],
   "source": [
    "# Q. W A P to check whether a year entered by user is an leap year or not?\n",
    "# Check with below input:-\n",
    "#  leap year:- 2012, 1968, 2004, 1200, 1600,2400\n",
    "#  Non-lear year:- 1971, 2006, 1700,1800,1900\n",
    "\n",
    "year = int(input('Enter a year: '))\n",
    "if ((year%400 == 0) or (year%4 == 0 and year%100 != 0)):\n",
    "    print('Year is a Leap Year')\n",
    "else:\n",
    "    print('Year is not a leap Year')\n",
    "\n"
   ]
  },
  {
   "cell_type": "code",
   "execution_count": 14,
   "metadata": {},
   "outputs": [
    {
     "name": "stdout",
     "output_type": "stream",
     "text": [
      "Enter the number: 5\n",
      "The given number is odd\n"
     ]
    }
   ],
   "source": [
    "# Q. W A P which takes one number from the user and checks whether it is\n",
    "# an even or odd number?, If it even then prints number is\n",
    "# even number else prints that number is odd number.\n",
    "\n",
    "num = int(input(\"Enter the number: \"))\n",
    "if (num%2 == 0):\n",
    "    print('The given number is even ')\n",
    "else:\n",
    "    print('The given number is odd')\n"
   ]
  },
  {
   "cell_type": "code",
   "execution_count": 16,
   "metadata": {},
   "outputs": [
    {
     "name": "stdout",
     "output_type": "stream",
     "text": [
      "Enter the first number: 88\n",
      "Enter the second number: 88\n",
      "num1 and num2 or equal\n"
     ]
    }
   ],
   "source": [
    "# Q. W A P which takes two numbers from the user and prints below output:-\n",
    "#  1. num1 is greater than num2 if num1 is greater than num2\n",
    "#  2. num1 is smaller than num2 if num1 is smaller than num2\n",
    "#  3. num1 is equal to num2 if num1 and num2 are equal\n",
    "# Note:- 1. Do this problem using if - else\n",
    "      #  2. Do this using ternary operator\n",
    "\n",
    "num1 = int(input('Enter the first number: '))\n",
    "num2 = int(input('Enter the second number: '))\n",
    "if (num1 > num2):\n",
    "    print('num1 is greater than num2')\n",
    "elif (num1 < num2):\n",
    "    print('num1 is smaller than num2')\n",
    "else:\n",
    "    print('num1 and num2 or equal')\n",
    "    \n",
    "    \n"
   ]
  },
  {
   "cell_type": "code",
   "execution_count": 20,
   "metadata": {},
   "outputs": [
    {
     "name": "stdout",
     "output_type": "stream",
     "text": [
      "Enter the First number10\n",
      "Enter the Second number20\n",
      "Enter the Third number30\n",
      "num3 is greater than num2 and num1\n"
     ]
    }
   ],
   "source": [
    "# Q. W A P which takes three numbers from the user and prints below\n",
    "# output:-\n",
    "#  1. num1 is greater than num2 and num3 if num1 is greater than num2\n",
    "#     and num3\n",
    "#  2. num2 is greater than num1 and num3 if num2 is greater than num1\n",
    "#     and num3\n",
    "# 3. num3 is greater than num1 and num2 if num3 is greater than num1\n",
    "#    and num2\n",
    "# Note:- 1. Do this problem using if - elif - else\n",
    "#        2. Do this using ternary operator\n",
    "# a = a if a>b else b\n",
    "\n",
    "num1 =  int(input('Enter the First number'))\n",
    "num2 =  int(input('Enter the Second number'))\n",
    "num3 =  int(input('Enter the Third number'))\n",
    "if (num2 < num1 >num3):\n",
    "    print('num1 is greater than num2 and num3')\n",
    "elif (num1 < num2 >num3):\n",
    "    print('num2 is greater than num1 and num3')\n",
    "else:\n",
    "    print('num3 is greater than num2 and num1')"
   ]
  },
  {
   "cell_type": "code",
   "execution_count": 14,
   "metadata": {},
   "outputs": [
    {
     "name": "stdout",
     "output_type": "stream",
     "text": [
      "55\n"
     ]
    }
   ],
   "source": [
    "# Loops - for loop, while loop\n",
    "# Q. Write a Python program to find the length of the my_str using loop:-\n",
    "# Input:- 'Write a Python program to find the length of the my_str'\n",
    "# Output:- 55\n",
    "\n",
    "str1 = 'Write a Python program to find the length of the my_str'\n",
    "i = 0\n",
    "while i < len(str1):\n",
    "    i += 1\n",
    "print(i)\n",
    "    "
   ]
  },
  {
   "cell_type": "code",
   "execution_count": 33,
   "metadata": {},
   "outputs": [
    {
     "name": "stdout",
     "output_type": "stream",
     "text": [
      "9\n",
      "9\n"
     ]
    }
   ],
   "source": [
    "# Q. Write a Python program to find the total number of times letter 'p'\n",
    "# is appeared in the below string using loop:-\n",
    "# Input:- 'peter piper picked a peck of pickled peppers.\\n'\n",
    "# Output:- 9\n",
    "\n",
    "str1 = 'peter piper picked a peck of pickled peppers.\\n'\n",
    "counter = 0\n",
    "for i in range(len(str1)):\n",
    "    if str1[i] == 'p':\n",
    "        counter += 1\n",
    "print(counter)\n",
    "    \n",
    "\n",
    "count = 0\n",
    "i = 0\n",
    "while i < len(str1):\n",
    "    if str1[i] == 'p':\n",
    "        count += 1\n",
    "    i += 1\n",
    "print(count)"
   ]
  },
  {
   "cell_type": "code",
   "execution_count": 32,
   "metadata": {},
   "outputs": [
    {
     "name": "stdout",
     "output_type": "stream",
     "text": [
      "0\n",
      "6\n",
      "8\n",
      "12\n",
      "21\n",
      "29\n",
      "37\n",
      "39\n",
      "40\n"
     ]
    }
   ],
   "source": [
    "# Q. Write a Python Program, to print all the indexes of all occurences of\n",
    "# letter 'p' appeared in the string using loop:-\n",
    "# Input:- 'peter piper picked a peck of pickled peppers.'\n",
    "\n",
    "str1 = 'peter piper picked a peck of pickled peppers.'\n",
    "for i  in range(len(str1)):\n",
    "    if (str1[i] == 'p'):\n",
    "        print(i)"
   ]
  },
  {
   "cell_type": "code",
   "execution_count": 40,
   "metadata": {},
   "outputs": [
    {
     "name": "stdout",
     "output_type": "stream",
     "text": [
      "['peter', 'piper', 'picked', 'a', 'peck', 'of', 'pickled', 'peppers']\n"
     ]
    }
   ],
   "source": [
    "# Q. Write a python program to find below output using loop:-\n",
    "# Input:- 'peter piper picked a peck of pickled peppers.'\n",
    "# Output:- ['peter', 'piper', 'picked', 'a', 'peck', 'of', 'pickled',\n",
    "# 'peppers']\n",
    "\n",
    "str1 = 'peter piper picked a peck of pickled peppers.'\n",
    "lst = []\n",
    "user_str = ''\n",
    "for i in str1:\n",
    "    if (i == ' ') or (i == '.'):\n",
    "        lst.append(user_str)\n",
    "        user_str = ''\n",
    "    else:\n",
    "        user_str += i\n",
    "print(lst)\n",
    "\n"
   ]
  },
  {
   "cell_type": "code",
   "execution_count": 59,
   "metadata": {},
   "outputs": [
    {
     "name": "stdout",
     "output_type": "stream",
     "text": [
      " peppers pickled of peck a picked piper peter\n"
     ]
    }
   ],
   "source": [
    "# Q. Write a python program to find below output using loop:-\n",
    "# Input:- 'peter piper picked a peck of pickled peppers.'\n",
    "# Output:- 'peppers pickled of peck a picked piper peter'\n",
    "\n",
    "str1 = 'peter piper picked a peck of pickled peppers.'\n",
    "lst = []\n",
    "user_str = ''\n",
    "for i in str1:\n",
    "    if (i == ' ') or (i == '.'):\n",
    "        lst.append(user_str)\n",
    "        user_str = ''\n",
    "    else:\n",
    "        user_str += i\n",
    "lst2 = lst[len(lst)::-1]\n",
    "out_str = ''\n",
    "for i in lst2:\n",
    "    out_str = out_str + ' ' + i\n",
    "print(out_str)\n",
    "\n",
    "    \n",
    "    "
   ]
  },
  {
   "cell_type": "code",
   "execution_count": 62,
   "metadata": {},
   "outputs": [
    {
     "name": "stdout",
     "output_type": "stream",
     "text": [
      ".sreppep delkcip fo kcep a dekcip repip retep\n"
     ]
    }
   ],
   "source": [
    "# Q. Write a python program to find below output using loop:-\n",
    "# Input:- 'peter piper picked a peck of pickled peppers.'\n",
    "# Output:- '.sreppep delkcip fo kcep a dekcip repip retep'\n",
    "    \n",
    "Input = 'peter piper picked a peck of pickled peppers.'\n",
    "\n",
    "out_str = ''\n",
    "\n",
    "for i in Input:\n",
    "    out_str = i + out_str\n",
    "    \n",
    "print(out_str)"
   ]
  },
  {
   "cell_type": "code",
   "execution_count": 76,
   "metadata": {},
   "outputs": [
    {
     "name": "stdout",
     "output_type": "stream",
     "text": [
      "retep repip dekcip a kcep fo delkcip sreppep\n"
     ]
    }
   ],
   "source": [
    "# Q. Write a python program to find below output using loop:-\n",
    "# Input:- 'peter piper picked a peck of pickled peppers.'\n",
    "# Output:- 'retep repip dekcip a kcep fo delkcip sreppep'\n",
    "\n",
    "inp_str = 'peter piper picked a peck of pickled peppers.'\n",
    "out_lst = []\n",
    "use_str = ''\n",
    "out_str = ''\n",
    "\n",
    "for i in inp_str:\n",
    "    if i == ' ' or i == '.':\n",
    "        out_lst.append(use_str)\n",
    "        use_str = ''\n",
    "    else:\n",
    "        use_str = i + use_str\n",
    "\n",
    "for i in out_lst:\n",
    "    out_str = out_str + ' ' + i\n",
    "out_str = out_str.strip()\n",
    "\n",
    "print(out_str)\n",
    "    \n",
    "\n"
   ]
  },
  {
   "cell_type": "code",
   "execution_count": 12,
   "metadata": {},
   "outputs": [
    {
     "name": "stdout",
     "output_type": "stream",
     "text": [
      " Peter Piper Picked A Peck Of Pickled Peppers.\n"
     ]
    }
   ],
   "source": [
    "# Q. Write a python program to find below output using loop:-\n",
    "# Input:- 'peter piper picked a peck of pickled peppers.'\n",
    "# Output:- 'Peter Piper Picked A Peck Of Pickled Peppers'\n",
    "\n",
    "inp_str = 'peter piper picked a peck of pickled peppers.'\n",
    "lst = inp_str.split()\n",
    "lst2 = []\n",
    "for i in lst:\n",
    "    b = i.capitalize()\n",
    "    lst2.append(b)\n",
    "str1 = ''\n",
    "for i in lst2:\n",
    "    str1 = str1 + ' ' + i\n",
    "print(str1)"
   ]
  },
  {
   "cell_type": "code",
   "execution_count": 22,
   "metadata": {},
   "outputs": [
    {
     "name": "stdout",
     "output_type": "stream",
     "text": [
      "29\n"
     ]
    }
   ],
   "source": [
    "# Q. Write a python program to implement index method using loop. If\n",
    "# sub_str is found in my_str then it will print the index\n",
    "# of first occurrence of first character of matching string in my_str:-\n",
    "# Input:- my_str = 'Peter Piper Picked A Peck Of Pickled Peppers.',\n",
    "# sub_str = 'Pickl'\n",
    "# Output:- 29\n",
    "\n",
    "my_str = 'Peter Piper Picked A Peck Of Pickled Peppers.'\n",
    "str1 = ''\n",
    "for i in my_str:\n",
    "    if (i == ' ') or (str1 == 'Pickl'):\n",
    "        if str1 == 'Pickl':\n",
    "            print(my_str.index(str1))\n",
    "        str1 = ''\n",
    "    else:\n",
    "        str1 += i\n",
    "        \n",
    "        \n"
   ]
  },
  {
   "cell_type": "code",
   "execution_count": 31,
   "metadata": {},
   "outputs": [
    {
     "name": "stdout",
     "output_type": "stream",
     "text": [
      "Peter Piper Picked A Pack Of Pickled Peppers.\n"
     ]
    }
   ],
   "source": [
    "# Q. Write a python program to implement replace method using loop. If\n",
    "# sub_str is found in my_str then it will replace the first\n",
    "# occurrence of sub_str with new_str else it will will print sub_str not\n",
    "# found:-\n",
    "# Input:- my_str = 'Peter Piper Picked A Peck Of Pickled Peppers.',\n",
    "# sub_str = 'Peck', new_str = 'Pack'\n",
    "# Output:- 'Peter Piper Picked A Pack Of Pickled Peppers.'\n",
    "\n",
    "my_str = 'Peter Piper Picked A Peck Of Pickled Peppers.'\n",
    "str1 = ''\n",
    "for i in my_str:\n",
    "    if (i == ' ') or (str1 == 'Peck'):\n",
    "        b = my_str.replace('Peck', 'Pack')\n",
    "print(b)"
   ]
  },
  {
   "cell_type": "code",
   "execution_count": 15,
   "metadata": {},
   "outputs": [
    {
     "name": "stdout",
     "output_type": "stream",
     "text": [
      "('Th', 'is', ' is Python class')\n",
      "class\n"
     ]
    }
   ],
   "source": [
    "# Q.Write a python program to find below output using loop:-\n",
    "# Input:- 'This is Python class' , sep =  ' is',\n",
    "# Output:- ['This', 'is', 'Python class']\n",
    "\n",
    "str = 'This is Python class'\n",
    "str1 = ''\n",
    "for i in str:\n",
    "    if (i == ' '):\n",
    "        if (str1 == 'is'):\n",
    "            print(str.partition('is'))\n",
    "        else:\n",
    "            str1 = ''\n",
    "    else:\n",
    "        str1 = str1 + i\n",
    "print(str1)\n",
    "            \n",
    "        \n",
    "\n",
    "        \n",
    "    \n",
    "    \n",
    "    \n",
    "\n",
    "\n"
   ]
  },
  {
   "cell_type": "code",
   "execution_count": 13,
   "metadata": {},
   "outputs": [
    {
     "name": "stdout",
     "output_type": "stream",
     "text": [
      "*********************Peck********************\n"
     ]
    }
   ],
   "source": [
    "# Q. Write a python program to find below output (implements rjust and ljust) using loop:-\n",
    "# Input:- 'Peter Piper Picked A Peck Of Pickled Peppers.' , sub_str = 'Peck',\n",
    "# Output:- '*********************Peck********************'\n",
    "\n",
    "str1 = 'Peter Piper Picked A Peck Of Pickled Peppers,'\n",
    "index = (len(str1))\n",
    "str2 = ''\n",
    "for i in str1:\n",
    "    if i == ' ':\n",
    "        if str2 == 'Peck':\n",
    "            print(str2.center(index, '*'))\n",
    "        else:\n",
    "            str2 = ''\n",
    "            \n",
    "    else:\n",
    "        str2 = str2 + i\n",
    "        \n",
    "\n",
    "str1 = 'Peter Piper Picked A Peck Of Pickled Peppers,'\n",
    "str2 = ''\n",
    "str3 = ''\n",
    "for i in str1:\n",
    "    if i == ' ':\n",
    "        if i == 'peck':\n",
    "            print(str3.ljust(index, '*'))\n",
    "        "
   ]
  },
  {
   "cell_type": "code",
   "execution_count": null,
   "metadata": {},
   "outputs": [],
   "source": []
  }
 ],
 "metadata": {
  "kernelspec": {
   "display_name": "Python 3",
   "language": "python",
   "name": "python3"
  },
  "language_info": {
   "codemirror_mode": {
    "name": "ipython",
    "version": 3
   },
   "file_extension": ".py",
   "mimetype": "text/x-python",
   "name": "python",
   "nbconvert_exporter": "python",
   "pygments_lexer": "ipython3",
   "version": "3.8.5"
  }
 },
 "nbformat": 4,
 "nbformat_minor": 4
}
