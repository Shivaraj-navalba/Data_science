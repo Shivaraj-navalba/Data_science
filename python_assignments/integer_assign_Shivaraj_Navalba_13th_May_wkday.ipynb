{
 "cells": [
  {
   "cell_type": "code",
   "execution_count": 7,
   "metadata": {},
   "outputs": [
    {
     "name": "stdout",
     "output_type": "stream",
     "text": [
      "85\n",
      "94267768227776\n",
      "<class 'int'>\n"
     ]
    }
   ],
   "source": [
    "# Q.Declare an int value and store it in a variable\n",
    "# Check the type and print the id of the same.\n",
    "85\n",
    "a = 85\n",
    "print(a)\n",
    "print(id(a))\n",
    "print(type(a))"
   ]
  },
  {
   "cell_type": "code",
   "execution_count": 10,
   "metadata": {},
   "outputs": [
    {
     "name": "stdout",
     "output_type": "stream",
     "text": [
      "94267768227456\n",
      "94267768227456\n"
     ]
    }
   ],
   "source": [
    "# Q.Take one int value between 0 - 256.Assign it to two different variables.\n",
    "# Check the id of both the variables. It should come the same. Check why?\n",
    "a = 75\n",
    "b = 75\n",
    "print(id(a))\n",
    "print(id(b))\n",
    "\n",
    "'''Comment : The both variables have the same memory address bcoz in python the momeory is created for \n",
    "litral(data) not for the variable, The variable is just taged to the the ralated adress, So here we getting\n",
    "same address for both variable'''"
   ]
  },
  {
   "cell_type": "code",
   "execution_count": 57,
   "metadata": {},
   "outputs": [
    {
     "name": "stdout",
     "output_type": "stream",
     "text": [
      "140576300802544\n",
      "140576300802736\n"
     ]
    }
   ],
   "source": [
    "# Q.Take one int value either less than -5 or greater than 256.\n",
    "# Assign it to two different variables.Check the id of both the variables. \n",
    "# It should come different.Check why?\n",
    "a = -6\n",
    "b = -6\n",
    "print(id(a))\n",
    "print(id(b))\n",
    "\n",
    "'''Concept of object reusability work only between -5 to 256'''"
   ]
  },
  {
   "cell_type": "code",
   "execution_count": 22,
   "metadata": {},
   "outputs": [
    {
     "name": "stdout",
     "output_type": "stream",
     "text": [
      "sum: 70\n",
      "Dif: 30\n",
      "Product: 1000\n",
      "Div:  2.5\n",
      "Reminder:  10\n",
      "quotient:  2\n",
      "exponent:  9536743164062500000000000000000000\n"
     ]
    }
   ],
   "source": [
    "# Q. Arithmetic Operations on integersTake two different integer values.\n",
    "# Store them in two different variables.Do below operations on them:\n",
    "#     Find sum of both numbers\n",
    "#     Find difference between them\n",
    "#     Find the product of both numbers.\n",
    "#     Find value after dividing first num with second number\n",
    "#     Find the remainder after dividing first number with second number\n",
    "#     Find the quotient after dividing first number with second number\n",
    "#     Find the result of the first num to the power of the second number.\n",
    "\n",
    "\n",
    "a = 50\n",
    "b = 20\n",
    "print(\"sum:\", a+b)\n",
    "print(\"Dif:\", a-b)\n",
    "print(\"Product:\",a*b)\n",
    "print(\"Div: \",a/b)\n",
    "print(\"Reminder: \",a%b)\n",
    "print(\"quotient: \",a//b)\n",
    "print(\"exponent: \",a**b)\n",
    "\n"
   ]
  },
  {
   "cell_type": "code",
   "execution_count": 23,
   "metadata": {},
   "outputs": [
    {
     "name": "stdout",
     "output_type": "stream",
     "text": [
      "False\n",
      "True\n",
      "True\n",
      "False\n"
     ]
    }
   ],
   "source": [
    "# Q. Comparison Operators on integersTake two different integer values.\n",
    "# Store them in two different variables.Do below operations on them:-   \n",
    "#     Compare se two numbers with below operator:-       \n",
    "#     Greater than, '>'       Smaller than, '<'       Greater than or equal to, '>='       \n",
    "#     Less than or equal to,'<='    Observe their output(return type should be boolean)\n",
    "\n",
    "a = 10\n",
    "b = 20\n",
    "print(a>b)\n",
    "print(a<b)\n",
    "print(a<=b)\n",
    "print(a>=b)"
   ]
  },
  {
   "cell_type": "code",
   "execution_count": 24,
   "metadata": {},
   "outputs": [
    {
     "name": "stdout",
     "output_type": "stream",
     "text": [
      "False\n",
      "True\n"
     ]
    }
   ],
   "source": [
    "# Q.Equality OperatorTake two different integer values.Store them in two different variables.\n",
    "# Equate them using equality operators (==, !=)Observe the output(return type should be boolean)\n",
    "a = 20\n",
    "b = 45\n",
    "print(a==b)\n",
    "print(a!=b)\n"
   ]
  },
  {
   "cell_type": "code",
   "execution_count": 28,
   "metadata": {},
   "outputs": [
    {
     "name": "stdout",
     "output_type": "stream",
     "text": [
      "20\n",
      "0\n",
      "0\n",
      "0\n",
      "\n",
      "10\n",
      "20\n",
      "20\n",
      "0\n",
      "\n",
      "False\n",
      "True\n"
     ]
    }
   ],
   "source": [
    "# Q.Logical operatorsObserve the output of below code..\n",
    "# Cross check the output manually.\n",
    "\n",
    "print(10 and 20)   #secon vale taken (and operation always refers false value) ---> 20 o/p\n",
    "print(0 and 20)    #First vale taken ---> 0 o/p\n",
    "print(20 and 0)    #secon vale taken ---> 20 o/p\n",
    "print(0 and 0)     #First vale taken bcoz its false ---> 20 o/p\n",
    "\n",
    "print()\n",
    "\n",
    "print(10 or 20)     #First vale taken (and operation always refers True value ---> 20 o/p)\n",
    "print(0 or 20)      #second vale taken bcoz its true ---> 20 o/p\n",
    "print(20 or 0)      #First vale taken bcoz its true ---> 20 o/p\n",
    "print(0 or 0)       #First vale taken wen both are False ---> 20 o/p\n",
    "\n",
    "print()\n",
    "\n",
    "print(not 10)       #not operationn convert if True than o/p will false.\n",
    "print(not 0)        #If its False than o/p will be True. "
   ]
  },
  {
   "cell_type": "code",
   "execution_count": 40,
   "metadata": {},
   "outputs": [
    {
     "name": "stdout",
     "output_type": "stream",
     "text": [
      "0\n",
      "30\n",
      "30\n",
      "-11\n",
      "40\n",
      "2\n"
     ]
    }
   ],
   "source": [
    "# Q.Bitwise OperatorsDo below operations on the values provided below:-\n",
    "\n",
    "print(10 & 20)   \n",
    "print(10 | 20)     #Bitwise or\n",
    "print(10 ^ 20)     #Bitwise\n",
    "print(~ 10)        #Bitwise negation()\n",
    "print(10 << 2)     #Bitwise left shift (10 * (2**2))\n",
    "print(10 >> 2)     #BItwise right shift (10 //(2**2))\n",
    "\n"
   ]
  },
  {
   "cell_type": "code",
   "execution_count": 58,
   "metadata": {},
   "outputs": [
    {
     "name": "stdout",
     "output_type": "stream",
     "text": [
      "True\n",
      "False\n",
      "\n",
      "False\n",
      "True\n",
      "140576301579600\n",
      "140576301580208\n"
     ]
    }
   ],
   "source": [
    "# Q.What is the output of expression inside print statement. \n",
    "# Cross checkbefore running the program.\n",
    "\n",
    "a = 10\n",
    "b = 10\n",
    "print(a is b)          #True         \n",
    "print(a is not b)      #False\n",
    "\n",
    "print()\n",
    "\n",
    "a = 1000                      \n",
    "b = 1000          \n",
    "print(a is b)             #False\n",
    "print(a is not b)         #True      (concept of object reusability is between -5 to 256)\n",
    "print(id(a))\n",
    "print(id(b))\n",
    "\n"
   ]
  },
  {
   "cell_type": "code",
   "execution_count": 49,
   "metadata": {},
   "outputs": [
    {
     "name": "stdout",
     "output_type": "stream",
     "text": [
      "20\n"
     ]
    }
   ],
   "source": [
    "# Q. What is the output of expression inside print statement. Cross checkbefore running the program.\n",
    "\n",
    "print(10+(10*32)//2**5&20+(~(-10))<<2)"
   ]
  },
  {
   "cell_type": "code",
   "execution_count": 17,
   "metadata": {},
   "outputs": [
    {
     "name": "stdout",
     "output_type": "stream",
     "text": [
      "True\n",
      "True\n",
      "True\n",
      "True\n",
      "True\n",
      "True\n"
     ]
    }
   ],
   "source": [
    "# Q.Membership operationin, not in are two membership operators and it returns boolean value.\n",
    "\n",
    "print('2' in 'Python2.7.8')      \n",
    "print(10 in [10,10.20,10+20j,\"python\"])    \n",
    "print(10 in (10,10.20,10+20j,\"python\"))    \n",
    "print(2 in {1,2,3})                        \n",
    "print(3  in {1:100, 2:200, 3:300})\n",
    "print(10 in range(20))                     "
   ]
  },
  {
   "cell_type": "code",
   "execution_count": 45,
   "metadata": {},
   "outputs": [
    {
     "name": "stdout",
     "output_type": "stream",
     "text": [
      "\n",
      "0b10011010010100\n",
      "0o23224\n",
      "0x2694\n"
     ]
    }
   ],
   "source": [
    "# Q.An integer can be represented in binary, octal or hexadecimal form.\n",
    "# Declare one binary, one octal and one hexadecimal value and store themin three different variables.\n",
    "# Convert 9876 to its binary, octal and hexadecimal equivalent and print their corresponding value.\n",
    "\n",
    "# Declare\n",
    "x = 0b1011001     #Binary\n",
    "y = 0o7437        #octal\n",
    "z = 0xfadf        #hexadecimal\n",
    "\n",
    "\n",
    "a = 9876\n",
    "b = print(bin(a))\n",
    "c = print(oct(a))\n",
    "d = print(hex(a))\n",
    "\n"
   ]
  },
  {
   "cell_type": "code",
   "execution_count": 47,
   "metadata": {},
   "outputs": [
    {
     "name": "stdout",
     "output_type": "stream",
     "text": [
      "80\n",
      "3870\n",
      "64222\n",
      "\n",
      "0b1010000\n",
      "0o7436\n",
      "0xfade\n",
      "0b1010000\n",
      "0b1111101011011110\n",
      "0o175336\n",
      "0o7436\n",
      "0x50\n",
      "0xfade\n"
     ]
    }
   ],
   "source": [
    "# Q.What will be the output of following:-\n",
    "    \n",
    "a = 0b1010000\n",
    "print(a)\n",
    "b = 0o7436\n",
    "print(b)\n",
    "c = 0xfade\n",
    "print(c)\n",
    "print()\n",
    "print(bin(80))\n",
    "print(oct(3870))\n",
    "print(hex(64222))\n",
    "print(bin(0b1010000))\n",
    "print(bin(0xfade))\n",
    "print(oct(0xfade))\n",
    "print(oct(0o7436))\n",
    "print(hex(0b1010000))\n",
    "print(hex(0xfade))\n"
   ]
  }
 ],
 "metadata": {
  "kernelspec": {
   "display_name": "Python 3",
   "language": "python",
   "name": "python3"
  },
  "language_info": {
   "codemirror_mode": {
    "name": "ipython",
    "version": 3
   },
   "file_extension": ".py",
   "mimetype": "text/x-python",
   "name": "python",
   "nbconvert_exporter": "python",
   "pygments_lexer": "ipython3",
   "version": "3.8.5"
  }
 },
 "nbformat": 4,
 "nbformat_minor": 4
}
