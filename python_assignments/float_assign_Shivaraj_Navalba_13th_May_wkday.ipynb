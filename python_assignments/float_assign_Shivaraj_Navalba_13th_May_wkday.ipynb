{
 "cells": [
  {
   "cell_type": "code",
   "execution_count": 1,
   "metadata": {},
   "outputs": [
    {
     "name": "stdout",
     "output_type": "stream",
     "text": [
      "10.25\n",
      "140677046947600\n",
      "<class 'float'>\n"
     ]
    }
   ],
   "source": [
    "# Q.Declare a float value and store it in a variable.\n",
    "# Check the type and print the id of the same.\n",
    "\n",
    "10.25\n",
    "a = 10.25\n",
    "print(a)\n",
    "print(id(a))\n",
    "print(type(a))"
   ]
  },
  {
   "cell_type": "code",
   "execution_count": 2,
   "metadata": {},
   "outputs": [
    {
     "name": "stdout",
     "output_type": "stream",
     "text": [
      "sum: 48.13\n",
      "Dif: -22.43\n",
      "Product: 453.348\n",
      "Div:  0.3642290249433106\n",
      "Reminder:  12.85\n",
      "quotient:  0.0\n",
      "exponent:  1.3246536610064815e+39\n"
     ]
    }
   ],
   "source": [
    "# Q.Arithmetic Operations on floatTake two different float values.Store them in two different variables.\n",
    "# Do below operations on them:-\n",
    "#     Find sum of both numbers \n",
    "#     Find difference between them\n",
    "#     Find the product of both numbers.\n",
    "#     Find value after dividing first num with second number \n",
    "#     Find the remainder after dividing first number with second number \n",
    "#     Find the quotient after dividing first number with second number \n",
    "#     Find the result of the first num to the power of the second number.\n",
    "\n",
    "a = 12.85\n",
    "b = 35.28\n",
    "print(\"sum:\", a+b)\n",
    "print(\"Dif:\", a-b)\n",
    "print(\"Product:\",a*b)\n",
    "print(\"Div: \",a/b)\n",
    "print(\"Reminder: \",a%b)\n",
    "print(\"quotient: \",a//b)\n",
    "print(\"exponent: \",a**b)"
   ]
  },
  {
   "cell_type": "code",
   "execution_count": 5,
   "metadata": {},
   "outputs": [
    {
     "name": "stdout",
     "output_type": "stream",
     "text": [
      "False\n",
      "True\n",
      "True\n",
      "False\n"
     ]
    }
   ],
   "source": [
    "# Q.Comparison Operators on floatTake two different float values.Store them in two different variables.\n",
    "# Do below operations on them:-   \n",
    "#     Compare these two numbers with below operator:-       \n",
    "#     Greater than, '>' Smaller than, '<' Greater than or equal to,'>=' \n",
    "#     Less than or equal to, '<='   Observe their output(return type should be boolean).\n",
    "\n",
    "x = 18.25\n",
    "y = 88.18\n",
    "print(x>y)\n",
    "print(x<y)\n",
    "print(x<=y)\n",
    "print(x>=y)"
   ]
  },
  {
   "cell_type": "code",
   "execution_count": 7,
   "metadata": {},
   "outputs": [
    {
     "name": "stdout",
     "output_type": "stream",
     "text": [
      "False\n",
      "True\n"
     ]
    }
   ],
   "source": [
    "# Q.Equality OperatorTake two different float values.Store them in two different variables.\n",
    "# Equate them using equality operators (==, !=)Observe the output(return type should be boolean).\n",
    "\n",
    "x = 20\n",
    "y = 45\n",
    "print(x == y)\n",
    "print(x!= y)\n"
   ]
  },
  {
   "cell_type": "code",
   "execution_count": 10,
   "metadata": {},
   "outputs": [
    {
     "name": "stdout",
     "output_type": "stream",
     "text": [
      "20.3\n",
      "0.0\n",
      "10.2\n",
      "20.3\n",
      "20.3\n",
      "0.0\n",
      "False\n",
      "True\n"
     ]
    }
   ],
   "source": [
    "# Q.Logical operatorsObserve the output of below codeCross check the output manually.\n",
    "\n",
    "print(10.20 and 20.30)       #both are true and second value taken ---> Output is 20.3\n",
    "print(0.0 and 20.30 )        #First is false so first valuetaken->Output is 0.0\n",
    "print(10.20 or 20.30)        #First is True so first value istaken>Output is 10.2\n",
    "print(0.0 or 20.30)          #Goes to till second and second is truesecond value is taken->Output is 20.3\n",
    "print(20.30 or 0.0)          #First is True so first value istaken->Output is 20.3\n",
    "print(0.0 or 0.0 )           #Goes to till second and second is alsofalse and second value is taken>Output is 0.0\n",
    "print(not 10.2)              #Not of true is false->Output is False\n",
    "print(not 0.0)               #Not of false is True>Output is True"
   ]
  },
  {
   "cell_type": "code",
   "execution_count": 25,
   "metadata": {},
   "outputs": [
    {
     "name": "stdout",
     "output_type": "stream",
     "text": [
      "False\n",
      "True\n",
      "\n",
      "Different id for same value\n",
      "140677029783472\n",
      "140677029784464\n",
      "\n",
      "Same id\n",
      "140677029784464\n",
      "140677029784464\n"
     ]
    }
   ],
   "source": [
    "# Q.What is the output of expression inside print statement. Cross checkbefore running the program.\n",
    "\n",
    "a = 10.20\n",
    "b = 10.20\n",
    "print(a is b)          # False (10.20<256)\n",
    "print(a is not b)      #True\n",
    "\n",
    "print()\n",
    "\n",
    "# Why the Id of float values are different when the same value isassigned to two different variables ex: \n",
    "a = 10.5\n",
    "b = 10.5 \n",
    "print(\"Different id for same value\")\n",
    "print(id(a))\n",
    "print(id(b))\n",
    "print()\n",
    "# but id will be same if I assign the variablehaving float i.e. a=c then both a and c's Id are same.\n",
    "a = 10.5\n",
    "a = b\n",
    "print(\"Same id\")\n",
    "print(id(a))\n",
    "print(id(b))"
   ]
  },
  {
   "cell_type": "code",
   "execution_count": 30,
   "metadata": {},
   "outputs": [
    {
     "name": "stdout",
     "output_type": "stream",
     "text": [
      "Diffrent id for same value in float object\n",
      "140677029783472\n",
      "140677029785104\n",
      "\n",
      "140677029783472\n",
      "140677029783472\n"
     ]
    }
   ],
   "source": [
    "#Q.Bitwise operation is not applicable between instances of float.\n",
    "# Why the Id of float values are different when the same value isassigned to two different variables\n",
    "# ex: \n",
    "a = 10.5 \n",
    "b = 10.5\n",
    "print(\"Diffrent id for same value in float object\")\n",
    "print(id(a))\n",
    "print(id(b))\n",
    "print()\n",
    "\n",
    "#but id will be same if I assign the variable having float i.e. \n",
    "c = a\n",
    "print(id(a))\n",
    "print(id(c))\n",
    "#then both a and c's Id are same Object reusability concept is not applicable on float values."
   ]
  },
  {
   "cell_type": "code",
   "execution_count": 36,
   "metadata": {},
   "outputs": [
    {
     "name": "stdout",
     "output_type": "stream",
     "text": [
      "True\n",
      "True\n",
      "True\n",
      "True\n",
      "True\n",
      "True\n"
     ]
    }
   ],
   "source": [
    "# Q.Membership operationin, not in are two membership operators and it returns boolean value\n",
    "\n",
    "print('2.7' in 'Python2.7.8')                     #True\n",
    "print(10.20 in [10, 10.20, 10+20j, 'Python'])     #True\n",
    "print(10.20 in (10, 10.20, 10+20j, 'Python'))     #True\n",
    "print(20.30 in {1, 20.30, 30+40j})                #True\n",
    "print(2.3 in {1:100, 2.3:200, 30+40j:300})        #True\n",
    "print(10 in range (20))                           #True"
   ]
  },
  {
   "cell_type": "code",
   "execution_count": null,
   "metadata": {},
   "outputs": [],
   "source": []
  }
 ],
 "metadata": {
  "kernelspec": {
   "display_name": "Python 3",
   "language": "python",
   "name": "python3"
  },
  "language_info": {
   "codemirror_mode": {
    "name": "ipython",
    "version": 3
   },
   "file_extension": ".py",
   "mimetype": "text/x-python",
   "name": "python",
   "nbconvert_exporter": "python",
   "pygments_lexer": "ipython3",
   "version": "3.8.5"
  }
 },
 "nbformat": 4,
 "nbformat_minor": 4
}
