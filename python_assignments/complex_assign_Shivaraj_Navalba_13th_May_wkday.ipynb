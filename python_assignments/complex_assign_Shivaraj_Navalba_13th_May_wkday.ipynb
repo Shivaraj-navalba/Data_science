{
 "cells": [
  {
   "cell_type": "code",
   "execution_count": 4,
   "metadata": {},
   "outputs": [
    {
     "name": "stdout",
     "output_type": "stream",
     "text": [
      "(10.85+20j)\n",
      "140055599125680\n",
      "<class 'complex'>\n"
     ]
    }
   ],
   "source": [
    "# Q.Declare a complex number and store it in a variable.Check the type and print the id of the same.85\n",
    "\n",
    "a = 10.85+20j\n",
    "print(a)\n",
    "print(id(a))\n",
    "print(type(a))"
   ]
  },
  {
   "cell_type": "code",
   "execution_count": 9,
   "metadata": {},
   "outputs": [
    {
     "name": "stdout",
     "output_type": "stream",
     "text": [
      "sum: (-14.5-5j)\n",
      "Dif: (-35.5+25j)\n",
      "Product: (-112.5+480j)\n",
      "Div:  (-1.2304250559284116-0.8053691275167785j)\n",
      "exponent:  (1.5600420503664717e+31-1.0083018605740877e+33j)\n"
     ]
    }
   ],
   "source": [
    "# Q.Arithmetic Operations on complex numberTake two different complex numbers.Store them in two different variables.\n",
    "# Do below operations on them:-\n",
    "#     Find sum of both numbers \n",
    "#     Find difference between them \n",
    "#     Find the product of both numbers.\n",
    "#     Find value after dividing first num with second number.\n",
    "#     Find the result of the first num to the power of the second number\n",
    "\n",
    "a = -25+10j\n",
    "b = 10.5-15j\n",
    "print(\"sum:\", a+b)\n",
    "print(\"Dif:\", a-b)\n",
    "print(\"Product:\",a*b)\n",
    "print(\"Div: \",a/b)\n",
    "print(\"exponent: \",a**b)"
   ]
  },
  {
   "cell_type": "code",
   "execution_count": 15,
   "metadata": {},
   "outputs": [
    {
     "name": "stdout",
     "output_type": "stream",
     "text": [
      "140055599127376\n",
      "140055599126896\n"
     ]
    },
    {
     "ename": "TypeError",
     "evalue": "'>' not supported between instances of 'complex' and 'complex'",
     "output_type": "error",
     "traceback": [
      "\u001b[0;31m---------------------------------------------------------------------------\u001b[0m",
      "\u001b[0;31mTypeError\u001b[0m                                 Traceback (most recent call last)",
      "\u001b[0;32m<ipython-input-15-1abf3047e30f>\u001b[0m in \u001b[0;36m<module>\u001b[0;34m\u001b[0m\n\u001b[1;32m      8\u001b[0m \u001b[0mprint\u001b[0m\u001b[0;34m(\u001b[0m\u001b[0mid\u001b[0m\u001b[0;34m(\u001b[0m\u001b[0mb\u001b[0m\u001b[0;34m)\u001b[0m\u001b[0;34m)\u001b[0m\u001b[0;34m\u001b[0m\u001b[0;34m\u001b[0m\u001b[0m\n\u001b[1;32m      9\u001b[0m \u001b[0;34m\u001b[0m\u001b[0m\n\u001b[0;32m---> 10\u001b[0;31m \u001b[0mprint\u001b[0m\u001b[0;34m(\u001b[0m\u001b[0;34m(\u001b[0m\u001b[0;36m20\u001b[0m\u001b[0;34m+\u001b[0m\u001b[0;36m10j\u001b[0m\u001b[0;34m)\u001b[0m\u001b[0;34m>\u001b[0m\u001b[0;34m(\u001b[0m\u001b[0;36m30\u001b[0m\u001b[0;34m+\u001b[0m\u001b[0;36m20j\u001b[0m\u001b[0;34m)\u001b[0m\u001b[0;34m)\u001b[0m\u001b[0;34m\u001b[0m\u001b[0;34m\u001b[0m\u001b[0m\n\u001b[0m\u001b[1;32m     11\u001b[0m \u001b[0mprint\u001b[0m\u001b[0;34m(\u001b[0m\u001b[0;34m(\u001b[0m\u001b[0;36m20\u001b[0m\u001b[0;34m+\u001b[0m\u001b[0;36m10j\u001b[0m\u001b[0;34m)\u001b[0m\u001b[0;34m<\u001b[0m\u001b[0;34m(\u001b[0m\u001b[0;36m30\u001b[0m\u001b[0;34m+\u001b[0m\u001b[0;36m20j\u001b[0m\u001b[0;34m)\u001b[0m\u001b[0;34m)\u001b[0m\u001b[0;34m\u001b[0m\u001b[0;34m\u001b[0m\u001b[0m\n\u001b[1;32m     12\u001b[0m \u001b[0;34m\u001b[0m\u001b[0m\n",
      "\u001b[0;31mTypeError\u001b[0m: '>' not supported between instances of 'complex' and 'complex'"
     ]
    }
   ],
   "source": [
    "# Q.Comparison Operation not applicable between instance of complex values.\n",
    "# Object reusability concept is not applicable on complex number.\n",
    "\n",
    "# Object reusabilit         #Its also doest work with float data type.\n",
    "a = 20+10j\n",
    "b = 20+10j\n",
    "print(id(a))\n",
    "print(id(b))\n",
    "\n",
    "# Comparison Operation\n",
    "print((20+10j)>(30+20j))\n",
    "print((20+10j)<(30+20j))\n",
    "\n"
   ]
  },
  {
   "cell_type": "code",
   "execution_count": 18,
   "metadata": {},
   "outputs": [
    {
     "name": "stdout",
     "output_type": "stream",
     "text": [
      "True\n",
      "False\n"
     ]
    }
   ],
   "source": [
    "# Q.Equality Operator Take two different complex numbers.\n",
    "# Store them in two different variables.Equate them using equality operators (==, !=)\n",
    "# Observe the output(return type should be boolean).\n",
    "\n",
    "a = -18+20.08j\n",
    "b = -18+20.08j\n",
    "print(a == b)\n",
    "print(a != b)"
   ]
  },
  {
   "cell_type": "code",
   "execution_count": 33,
   "metadata": {},
   "outputs": [
    {
     "name": "stdout",
     "output_type": "stream",
     "text": [
      "(20+30j)\n",
      "0j\n",
      "0j\n",
      "0j\n",
      "\n",
      "(10+20j)\n",
      "(20+30j)\n",
      "(20+30j)\n",
      "0j\n",
      "\n",
      "False\n",
      "True\n"
     ]
    }
   ],
   "source": [
    "# Q.Logical operatorsObserve the output of below codeCross check the output manually\n",
    "\n",
    "print(10+20j and 20+30j)    #20+30j (wen both are true it will choose 2 expression)\n",
    "print(0+0j and 20+30j)      #0+0j and always refere False value\n",
    "print(20+30j and 0+0j)      #0+0j  \n",
    "print(0+0j and 0+0j)        #0+0j wen both are flase it will take first expn.\n",
    "print()\n",
    "\n",
    "print(10+20j or 20+30j)     #10+20j (or always refer True value)\n",
    "print(0+0j or 20+30j)       #20+30j \n",
    "print(20+30j or 0+0j)       #20+30j\n",
    "print(0+0j or 0+0j)         #0+0j\n",
    "print()\n",
    "\n",
    "print(not 10+20j)           #False (True to false)\n",
    "print(not 0+0j)             #True (False to True)"
   ]
  },
  {
   "cell_type": "code",
   "execution_count": 35,
   "metadata": {},
   "outputs": [
    {
     "name": "stdout",
     "output_type": "stream",
     "text": [
      "False\n",
      "True\n"
     ]
    }
   ],
   "source": [
    "# Q.What is the output of the expression inside the print statement.Cross check before running the program.\n",
    "a = 10+20j\n",
    "b = 10+20j\n",
    "print(a is b)       #True   \n",
    "print(a is not b)   #False   "
   ]
  },
  {
   "cell_type": "code",
   "execution_count": 36,
   "metadata": {},
   "outputs": [
    {
     "name": "stdout",
     "output_type": "stream",
     "text": [
      "True\n",
      "True\n",
      "True\n",
      "True\n",
      "True\n",
      "True\n"
     ]
    }
   ],
   "source": [
    "# Q.Membership operationin, not in are two membership operators and it returns boolean value.\n",
    "print('2.7' in 'Python2.7.8')                        #True\n",
    "print(10+20j in [10, 10.20, 10+20j,'Python'])        #True\n",
    "print(10+20j in (10, 10.20, 10+ 20j, 'Python'))      #True\n",
    "print(30+40j in {1, 20.30, 30+40j})                  #True\n",
    "print(30+40j in {1:100, 2.3:200, 30+40j:300})        #True\n",
    "print(10 in range (20))                              #True"
   ]
  },
  {
   "cell_type": "code",
   "execution_count": null,
   "metadata": {},
   "outputs": [],
   "source": []
  }
 ],
 "metadata": {
  "kernelspec": {
   "display_name": "Python 3",
   "language": "python",
   "name": "python3"
  },
  "language_info": {
   "codemirror_mode": {
    "name": "ipython",
    "version": 3
   },
   "file_extension": ".py",
   "mimetype": "text/x-python",
   "name": "python",
   "nbconvert_exporter": "python",
   "pygments_lexer": "ipython3",
   "version": "3.8.5"
  }
 },
 "nbformat": 4,
 "nbformat_minor": 4
}
