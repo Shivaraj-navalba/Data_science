{
 "cells": [
  {
   "cell_type": "code",
   "execution_count": 2,
   "metadata": {},
   "outputs": [
    {
     "name": "stdout",
     "output_type": "stream",
     "text": [
      "True\n",
      "94924140702048\n",
      "<class 'bool'>\n"
     ]
    }
   ],
   "source": [
    "# Q.Declare a boolean value and store it in a variable.Check the type and print the id of the same.\n",
    "\n",
    "True\n",
    "a = True\n",
    "print(a)\n",
    "print(id(a))\n",
    "print(type(a))"
   ]
  },
  {
   "cell_type": "code",
   "execution_count": 18,
   "metadata": {},
   "outputs": [
    {
     "name": "stdout",
     "output_type": "stream",
     "text": [
      "94924140866880\n",
      "94924140866880\n"
     ]
    }
   ],
   "source": [
    "# Q.Take one boolean value between 0 - 256.Assign it to two different variables.\n",
    "# Check the id of both the variables. It should come the same. Check why?\n",
    "\n",
    "a = 1\n",
    "b = 1\n",
    "print(id(a))\n",
    "print(id(a))\n",
    "\n",
    "# We getting the sam id bcoz the object reusability works between -5 to 256.\n"
   ]
  },
  {
   "cell_type": "code",
   "execution_count": 17,
   "metadata": {},
   "outputs": [
    {
     "name": "stdout",
     "output_type": "stream",
     "text": [
      "sum: 1\n",
      "Dif: -1\n",
      "Product: 0\n",
      "Div:  0.0\n",
      "Reminder:  0\n",
      "quotient:  0\n",
      "exponent:  0\n"
     ]
    }
   ],
   "source": [
    "# Q. Arithmetic Operations on boolean data Take two different boolean values.\n",
    "# Store them in two different variables.Do below operations on them:\n",
    "#     Find sum of both numbers\n",
    "#     Find difference between them\n",
    "#     Find the product of both numbers.\n",
    "#     Find value after dividing first num with second number.\n",
    "#     Find the remainder after dividing first number with second number.\n",
    "#     Find the quotient after dividing first number with second number.\n",
    "#     Find the result of the first num to the power of the second number.\n",
    "\n",
    "a = False\n",
    "b = True\n",
    "print(\"sum:\", a+b)\n",
    "print(\"Dif:\", a-b)\n",
    "print(\"Product:\",a*b)\n",
    "print(\"Div: \", a/b)\n",
    "print(\"Reminder: \",a%b)\n",
    "print(\"quotient: \",a//b)\n",
    "print(\"exponent: \",a**b)\n",
    "\n"
   ]
  },
  {
   "cell_type": "code",
   "execution_count": 14,
   "metadata": {},
   "outputs": [
    {
     "name": "stdout",
     "output_type": "stream",
     "text": [
      "<class 'bool'> <class 'bool'>\n",
      "True\n"
     ]
    }
   ],
   "source": [
    "a = True\n",
    "b = False\n",
    "print(type(a),type(b))\n",
    "print(a >= b)"
   ]
  },
  {
   "cell_type": "code",
   "execution_count": 19,
   "metadata": {},
   "outputs": [
    {
     "name": "stdout",
     "output_type": "stream",
     "text": [
      "True\n",
      "False\n",
      "False\n",
      "True\n"
     ]
    }
   ],
   "source": [
    "# Q. Comparison Operators on boolean Take two different boolean values.\n",
    "# Store them in two different variables.Do below operations on them:-   \n",
    "#     Compare se two numbers with below operator:-       \n",
    "#     Greater than, '>'       Smaller than, '<'       Greater than or equal to, '>='       \n",
    "#     Less than or equal to,'<='    Observe their output(return type should be boolean)\n",
    "\n",
    "a = True\n",
    "b = False\n",
    "print(a>b)\n",
    "print(a<b)\n",
    "print(a<=b)\n",
    "print(a>=b)"
   ]
  },
  {
   "cell_type": "code",
   "execution_count": 20,
   "metadata": {},
   "outputs": [
    {
     "name": "stdout",
     "output_type": "stream",
     "text": [
      "False\n",
      "True\n"
     ]
    }
   ],
   "source": [
    "# Q.Equality OperatorTake two different integer values.Store them in two different variables.\n",
    "# Equate them using equality operators (==, !=)Observe the output(return type should be boolean)\n",
    "\n",
    "a = True\n",
    "b = False\n",
    "print(a==b)\n",
    "print(a!=b)"
   ]
  },
  {
   "cell_type": "code",
   "execution_count": 23,
   "metadata": {},
   "outputs": [
    {
     "name": "stdout",
     "output_type": "stream",
     "text": [
      "True\n",
      "False\n",
      "False\n",
      "False\n",
      "\n",
      "True\n",
      "True\n",
      "True\n",
      "False\n",
      "\n",
      "False\n",
      "True\n"
     ]
    }
   ],
   "source": [
    "# Q.Logical operatorsObserve the output of below code..\n",
    "# Cross check the output manually.\n",
    "\n",
    "print(True and True)                    # True (second value taken)\n",
    "print(False and True)                   # False (and operation always refer false value)\n",
    "print(True and False)                   # False\n",
    "print(False and False)                  # False first value taken. \n",
    "print()\n",
    "\n",
    "print(True or True)                    # True (First value taken)\n",
    "print(False or True)                   # True (or operation always refers True value)\n",
    "print(True or False)                   # True\n",
    "print(False or False)                  # False (first value taken)\n",
    "print()\n",
    "\n",
    "print(not True)                        # Fasle (opposite to the give valse)\n",
    "print(not False)                       # True\n",
    "\n"
   ]
  },
  {
   "cell_type": "code",
   "execution_count": 37,
   "metadata": {},
   "outputs": [
    {
     "name": "stdout",
     "output_type": "stream",
     "text": [
      "True\n",
      "True\n",
      "<class 'bool'>\n",
      "-2\n",
      "4\n",
      "0\n"
     ]
    }
   ],
   "source": [
    "# Q.Bitwise OperatorsDo below operations on the values provided below:-\n",
    "\n",
    "print(True & True)     #Bitwise and, ---> True\n",
    "print(True | False)    #Bitwise or   ----------> True\n",
    "print((False ^ True)    #Bitwise ---------> True (Its refers true value)\n",
    "print(~ True)          #Bitwise Negation ----> -2\n",
    "print(True << 2)       #Bitwise left shift ------> 4  (formula: True(1)*(2**2))\n",
    "print(True >> 2)       #Bitwise right shift ------> 0  (formula: True(1)/(2**2))"
   ]
  },
  {
   "cell_type": "code",
   "execution_count": 41,
   "metadata": {},
   "outputs": [
    {
     "name": "stdout",
     "output_type": "stream",
     "text": [
      "True\n",
      "False\n",
      "\n",
      "True\n",
      "False\n"
     ]
    }
   ],
   "source": [
    "# Q.What is the output of expression inside the print statement. Crosscheck before running the program.\n",
    "a = True\n",
    "b = True\n",
    "print(a is b)          #True \n",
    "print(a is not b)      #False\n",
    "print()\n",
    "\n",
    "a = False\n",
    "b = False\n",
    "print(a is b)          #True \n",
    "print(a is not b)      #False"
   ]
  },
  {
   "cell_type": "code",
   "execution_count": 47,
   "metadata": {},
   "outputs": [
    {
     "name": "stdout",
     "output_type": "stream",
     "text": [
      "True\n",
      "True\n",
      "True\n",
      "True\n",
      "True\n"
     ]
    }
   ],
   "source": [
    "# Q.Membership operationin, not in are two membership operators and it returns boolean value.\n",
    "\n",
    "print(True in [10,10.20,10+20j,\"python\", True])    \n",
    "print(False in (10,10.20,10+20j,\"python\", False))    \n",
    "print(True in {1,2,3,True})                        \n",
    "print(True  in {True:100, False:200, True:300})\n",
    "print(False in {True:100, False:200, True:300})\n",
    "      "
   ]
  }
 ],
 "metadata": {
  "kernelspec": {
   "display_name": "Python 3",
   "language": "python",
   "name": "python3"
  },
  "language_info": {
   "codemirror_mode": {
    "name": "ipython",
    "version": 3
   },
   "file_extension": ".py",
   "mimetype": "text/x-python",
   "name": "python",
   "nbconvert_exporter": "python",
   "pygments_lexer": "ipython3",
   "version": "3.8.5"
  }
 },
 "nbformat": 4,
 "nbformat_minor": 4
}
