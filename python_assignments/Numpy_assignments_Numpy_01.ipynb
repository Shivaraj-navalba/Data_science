{
 "cells": [
  {
   "cell_type": "code",
   "execution_count": 1,
   "metadata": {},
   "outputs": [
    {
     "name": "stdout",
     "output_type": "stream",
     "text": [
      "1.19.2\n"
     ]
    }
   ],
   "source": [
    "# Q1.Write a Python program to print the NumPy version in your system.\n",
    "\n",
    "#importing the numpy module as np\n",
    "import numpy as np\n",
    "print(np.__version__)"
   ]
  },
  {
   "cell_type": "code",
   "execution_count": 74,
   "metadata": {},
   "outputs": [
    {
     "name": "stdout",
     "output_type": "stream",
     "text": [
      "[ 1  2  3  4  5  6  7  8  9 10 11 12 13 14 15 16 17 18 19 20 21 22 23 24]\n",
      "\n",
      "[24 23 22 21 20 19 18 17 16 15 14 13 12 11 10  9  8  7  6  5  4  3  2  1]\n",
      "\n",
      "[[ 1  2  3  4  5]\n",
      " [ 6  7  8  9 10]\n",
      " [11 12 13 14 15]\n",
      " [16 17 18 19 20]\n",
      " [21 22 23 24 25]]\n",
      "\n"
     ]
    },
    {
     "data": {
      "text/plain": [
       "array([[25, 24, 23, 22, 21],\n",
       "       [20, 19, 18, 17, 16],\n",
       "       [15, 14, 13, 12, 11],\n",
       "       [10,  9,  8,  7,  6],\n",
       "       [ 5,  4,  3,  2,  1]])"
      ]
     },
     "execution_count": 74,
     "metadata": {},
     "output_type": "execute_result"
    }
   ],
   "source": [
    "# Q2. Write a Python program to reverse an array (first element becomes last).\n",
    "# Note : The flip fn will reverse the arry but the sort fn will arrange the item according to accending order\n",
    "\n",
    "arr = np.arange(1,25)\n",
    "print(arr)\n",
    "print()\n",
    "print(np.flip(arr))\n",
    "\n",
    "print()\n",
    "\n",
    "# fliping or reversing the 2 day array,\n",
    "b = np.arange(1,26).reshape(5,5)\n",
    "print(b)\n",
    "print()\n",
    "np.flip(b)\n",
    "\n",
    "# when flip(array name, axis=0) the rows will get flip the top come bottom and bottom move to top.\n",
    "# when flip(array name, axis=1) the clos will get flip the left cols will go right and vice versa. "
   ]
  },
  {
   "cell_type": "code",
   "execution_count": 85,
   "metadata": {},
   "outputs": [
    {
     "name": "stdout",
     "output_type": "stream",
     "text": [
      "[10 20 30 40]\n",
      "\n",
      "[[1 2 3]\n",
      " [4 5 6]]\n",
      "\n",
      "[10 20 30 list([88, 99]) 40]\n",
      "<class 'numpy.ndarray'>\n",
      "\n",
      "[11 22 33 44]\n"
     ]
    },
    {
     "name": "stderr",
     "output_type": "stream",
     "text": [
      "<ipython-input-85-0a604447e594>:15: VisibleDeprecationWarning: Creating an ndarray from ragged nested sequences (which is a list-or-tuple of lists-or-tuples-or ndarrays with different lengths or shapes) is deprecated. If you meant to do this, you must specify 'dtype=object' when creating the ndarray\n",
      "  b = np.array(a)\n"
     ]
    }
   ],
   "source": [
    "# Q3. Write a Python program to convert a list and tuple into arrays.\n",
    "a = [10,20,30,40]\n",
    "print(np.array(a))\n",
    "print()\n",
    "\n",
    "\n",
    "\n",
    "#Case -2 nested list-01\n",
    "lis = [[1,2,3],[4,5,6]]\n",
    "print(np.array(lis))\n",
    "print()\n",
    "\n",
    "#case - 3 Nested list-02\n",
    "a = [10,20,30,[88,99],40]\n",
    "b = np.array(a)\n",
    "print(b)\n",
    "print(type(b))\n",
    "print()\n",
    "\n",
    "\n",
    "# Tuple into array\n",
    "tup = (11,22,33,44)\n",
    "print(np.array(tup))\n",
    "\n"
   ]
  },
  {
   "cell_type": "code",
   "execution_count": 92,
   "metadata": {},
   "outputs": [
    {
     "name": "stdout",
     "output_type": "stream",
     "text": [
      "[[12 19  7 15 14]\n",
      " [ 7 23 23  3 15]\n",
      " [19 17 18 15 14]\n",
      " [22 11 10 23 24]\n",
      " [11 25  5 10 15]]\n",
      "\n",
      "[[19 18  1  2 14]\n",
      " [ 8 25  3 16  7]\n",
      " [24 10 15 17 18]\n",
      " [ 8  2 22  9 14]\n",
      " [13  1 16  7  8]]\n",
      "\n"
     ]
    },
    {
     "data": {
      "text/plain": [
       "array([ 3,  7, 10, 14, 15, 17, 18, 19, 22, 24, 25])"
      ]
     },
     "execution_count": 92,
     "metadata": {},
     "output_type": "execute_result"
    }
   ],
   "source": [
    "# Q4. Write a Python program to find common values between two arrays.\n",
    "a = np.random.randint(1,26, (5,5))\n",
    "print(a)\n",
    "print()\n",
    "\n",
    "b  = np.random.randint(1,26, (5,5))\n",
    "print(b)\n",
    "print()\n",
    "\n",
    "#Finding the common value using built in fn. \n",
    "np.intersect1d(a,b)"
   ]
  },
  {
   "cell_type": "code",
   "execution_count": 104,
   "metadata": {},
   "outputs": [
    {
     "name": "stdout",
     "output_type": "stream",
     "text": [
      "[[14  4 23  9 12]\n",
      " [15 11  8 14 11]\n",
      " [ 1 14 18 19  7]\n",
      " [24 20  9 20 14]\n",
      " [ 6 18 16 11 16]]\n",
      "\n",
      "[[24  4  2 21  3]\n",
      " [ 8 11 11 19 20]\n",
      " [17  8 16 10  5]\n",
      " [17 14 18 16 15]\n",
      " [25 25  9 19  9]]\n",
      "\n",
      "[[False  True False False False]\n",
      " [False  True False False False]\n",
      " [False False False False False]\n",
      " [False False False False False]\n",
      " [False False False False False]]\n"
     ]
    }
   ],
   "source": [
    "# Q5. Write a Python program compare two arrays using numpy.\n",
    "#When doing the comp the rows and cols need to match. If not we get an error. \n",
    "a = np.random.randint(1,26, (5,5))\n",
    "print(a)\n",
    "print()\n",
    "\n",
    "b  = np.random.randint(1,26, (5,5))\n",
    "print(b)\n",
    "print()\n",
    "\n",
    "# Compaing two arrays.when the values get match we can find the o/p in boolen form.\n",
    "print(a == b"
   ]
  },
  {
   "cell_type": "code",
   "execution_count": 114,
   "metadata": {},
   "outputs": [
    {
     "name": "stdout",
     "output_type": "stream",
     "text": [
      "1d array:  [ 1  2  3  4  5  6  7  8  9 10 11 12 13 14 15 16 17 18 19 20]\n",
      "\n",
      "[[ 1  2  3  4  5]\n",
      " [ 6  7  8  9 10]\n",
      " [11 12 13 14 15]\n",
      " [16 17 18 19 20]]\n",
      "\n",
      "[[[ 1  2]\n",
      "  [ 3  4]]\n",
      "\n",
      " [[ 5  6]\n",
      "  [ 7  8]]\n",
      "\n",
      " [[ 9 10]\n",
      "  [11 12]]\n",
      "\n",
      " [[13 14]\n",
      "  [15 16]]\n",
      "\n",
      " [[17 18]\n",
      "  [19 20]]]\n"
     ]
    }
   ],
   "source": [
    "# Q6.  Write a Python program to change the dimension of an array.\n",
    "arr1 =  np.arange(1,21)\n",
    "print('1d array: ', arr1)\n",
    "print()\n",
    "\n",
    "# Changing the dim 1d to 2d\n",
    "\n",
    "b = arr1.reshape(4,5)\n",
    "print(b)\n",
    "print()\n",
    "\n",
    "# 1D to 3D array\n",
    "c = arr1.reshape(5,2,2)\n",
    "print(c)"
   ]
  },
  {
   "cell_type": "code",
   "execution_count": 82,
   "metadata": {},
   "outputs": [
    {
     "name": "stdout",
     "output_type": "stream",
     "text": [
      "[ 3  5  6  9 10 12 15 18 20 21 24 25 27 30 33 35 36 39 40 42 45 48 50 51\n",
      " 54 55 57 60 63 65 66 69 70 72 75 78 80 81 84 85 87 90 93 95 96 99]\n",
      "2318\n",
      "The sum of mupltiple of 3 from 1 to 99:  1683\n",
      "\n",
      "1683\n"
     ]
    }
   ],
   "source": [
    "# Q7. Write a Python program (using numpy) to sum of all the multiples of 3 or 5 below 100.\n",
    "\n",
    "# Case - 1\n",
    "x = np.arange(1, 100)\n",
    "# find multiple of 3 or 5\n",
    "n= x[(x % 3 == 0) | (x % 5 == 0)]\n",
    "print(n[:1000])\n",
    "# print sum the numbers\n",
    "print(n.sum())\n",
    "\n",
    "\n",
    "\n",
    "# case -2\n",
    "arr1 = np.arange(1,100)\n",
    "arr1\n",
    "\n",
    "count = 0\n",
    "\n",
    "for i in arr1:\n",
    "    if i%3 == 0:\n",
    "        count += i\n",
    "print('The sum of mupltiple of 3 from 1 to 99: ', count)\n",
    "print()\n",
    "\n",
    "# using filter method (Case -3)\n",
    "arr1 = np.arange(1,100)\n",
    "arr1\n",
    "\n",
    "print(sum(list(filter(lambda i: i%3 == 0, arr1))))"
   ]
  },
  {
   "cell_type": "code",
   "execution_count": 9,
   "metadata": {},
   "outputs": [
    {
     "name": "stdout",
     "output_type": "stream",
     "text": [
      "[array([1, 2, 3, 4, 5]), array([ 6,  7,  8,  9, 10])]\n",
      "\n",
      "Original array elements:\n",
      "[[0 1]\n",
      " [2 3]\n",
      " [4 5]]\n",
      "Array to list:\n",
      "[[0, 1], [2, 3], [4, 5]]\n"
     ]
    },
    {
     "data": {
      "text/plain": [
       "[[0, 1], [2, 3], [4, 5]]"
      ]
     },
     "execution_count": 9,
     "metadata": {},
     "output_type": "execute_result"
    }
   ],
   "source": [
    "# Q8.Write a Python program to convert a NumPy array into Python list structure.\n",
    "a = np.arange(1,11).reshape(2,5)\n",
    "a\n",
    "print(list(a))\n",
    "print()\n",
    "\n",
    "# Using the inbuilt function\n",
    "x= np.arange(6).reshape(3, 2)\n",
    "print(\"Original array elements:\")\n",
    "print(x)\n",
    "print(\"Array to list:\")\n",
    "print(x.tolist())"
   ]
  },
  {
   "cell_type": "code",
   "execution_count": 23,
   "metadata": {},
   "outputs": [
    {
     "name": "stdout",
     "output_type": "stream",
     "text": [
      "[[ 10  20  30 100]\n",
      " [ 40  50  60 200]]\n"
     ]
    }
   ],
   "source": [
    "# Q9. Write a Python program to how to add an extra column to a numpy array.\n",
    "x = np.array([[10,20,30], [40,50,60]])\n",
    "y = np.array([[100], [200]])\n",
    "print(np.append(x, y, axis=1))    #When we pass list in this format [ ], [ ] each list define coloumn. "
   ]
  },
  {
   "cell_type": "code",
   "execution_count": 38,
   "metadata": {},
   "outputs": [
    {
     "name": "stdout",
     "output_type": "stream",
     "text": [
      "6\n"
     ]
    },
    {
     "data": {
      "text/plain": [
       "0"
      ]
     },
     "execution_count": 38,
     "metadata": {},
     "output_type": "execute_result"
    }
   ],
   "source": [
    "# Q10. Write a Python program to check whether the numpy array is empty or not.\n",
    "arr = np.empty((3,2))\n",
    "arr1 = np.array([])\n",
    "print(np.size(arr))\n",
    "np.size(arr1)           #-------> The size fn help know number of elements of arry (Row X cols)\n",
    "                                # The shape fn will help to know the shape nuumber rows and cols. "
   ]
  },
  {
   "cell_type": "code",
   "execution_count": 41,
   "metadata": {},
   "outputs": [
    {
     "name": "stdout",
     "output_type": "stream",
     "text": [
      "Original Array:\n",
      "[[0.59771376 0.66475052 0.33517486]\n",
      " [0.81097418 0.00620479 0.90533831]\n",
      " [0.46803919 0.41445887 0.62801475]]\n",
      "After normalization:\n",
      "[[0.65786556 0.73242262 0.36587455]\n",
      " [0.89504992 0.         1.        ]\n",
      " [0.51364384 0.45405278 0.69156576]]\n"
     ]
    }
   ],
   "source": [
    "# Q11. Write a Python program to normalize a 3x3 random matrix.\n",
    "x= np.random.random((3,3))\n",
    "print(\"Original Array:\")\n",
    "print(x)\n",
    "xmax, xmin = x.max(), x.min()\n",
    "x = (x - xmin)/(xmax - xmin)\n",
    "print(\"After normalization:\")\n",
    "print(x)"
   ]
  },
  {
   "cell_type": "code",
   "execution_count": 62,
   "metadata": {},
   "outputs": [
    {
     "name": "stdout",
     "output_type": "stream",
     "text": [
      "[[ 0  1  2  3  4]\n",
      " [ 5  6  7  8  9]\n",
      " [10 11 12 13 14]\n",
      " [15 16 17 18 19]\n",
      " [20 21 22 23 24]]\n",
      "\n",
      "[[ 5  6  7  8  9]\n",
      " [ 0  1  2  3  4]\n",
      " [10 11 12 13 14]\n",
      " [15 16 17 18 19]\n",
      " [20 21 22 23 24]]\n",
      "\n",
      "Before Inversing\n",
      "[[ 1  2  3]\n",
      " [ 4  5  6]\n",
      " [ 7  8  9]\n",
      " [10 11 12]]\n",
      "\n",
      "After inversing\n"
     ]
    },
    {
     "data": {
      "text/plain": [
       "array([[ 1,  4,  7, 10],\n",
       "       [ 2,  5,  8, 11],\n",
       "       [ 3,  6,  9, 12]])"
      ]
     },
     "execution_count": 62,
     "metadata": {},
     "output_type": "execute_result"
    }
   ],
   "source": [
    "# Q12. How to swap two rows of an array?\n",
    "A = np.arange(25).reshape(5,5)\n",
    "print(A)\n",
    "print()\n",
    "A[[0,1]] = A[[1,0]]\n",
    "print(A)\n",
    "print()\n",
    "\n",
    "# Inversing the array (Row into cols and cols into row)\n",
    "a = np.arange(1,13).reshape(4,3)\n",
    "print('Before Inversing')\n",
    "print(a)\n",
    "print()\n",
    "\n",
    "print('After inversing')\n",
    "a.T"
   ]
  },
  {
   "cell_type": "code",
   "execution_count": 64,
   "metadata": {},
   "outputs": [
    {
     "name": "stdout",
     "output_type": "stream",
     "text": [
      "Original array:\n",
      "[0.90886009 0.43620666 0.43140948 0.7523842  0.00631973 0.25947183\n",
      " 0.12312869 0.61835166 0.84759111 0.31434919]\n",
      "\n",
      "Sorted array:\n",
      "[0.00631973 0.12312869 0.25947183 0.31434919 0.43140948 0.43620666\n",
      " 0.61835166 0.7523842  0.84759111 0.90886009]\n"
     ]
    }
   ],
   "source": [
    "# Q13. Python program to create a random vector of size 10 and sort it.\n",
    "x = np.random.random(10)\n",
    "print(\"Original array:\")\n",
    "print(x)\n",
    "print()\n",
    "x.sort()\n",
    "print(\"Sorted array:\")\n",
    "print(x)"
   ]
  },
  {
   "cell_type": "code",
   "execution_count": 66,
   "metadata": {},
   "outputs": [
    {
     "name": "stdout",
     "output_type": "stream",
     "text": [
      "First array:\n",
      "[1 0 0 1 1 0]\n",
      "\n",
      "Second array:\n",
      "[1 1 0 1 1 0]\n",
      "\n",
      "Test above two arrays are equal or not!\n",
      "False\n"
     ]
    }
   ],
   "source": [
    "# Q14. Write a Python program to check two random arrays are equal or not.\n",
    "x = np.random.randint(0,2,6)\n",
    "print(\"First array:\")\n",
    "print(x)\n",
    "print()\n",
    "y = np.random.randint(0,2,6)\n",
    "print(\"Second array:\")\n",
    "print(y)\n",
    "print()\n",
    "print(\"Test above two arrays are equal or not!\")\n",
    "array_equal = np.allclose(x, y)\n",
    "print(array_equal)"
   ]
  },
  {
   "cell_type": "code",
   "execution_count": 77,
   "metadata": {},
   "outputs": [
    {
     "name": "stdout",
     "output_type": "stream",
     "text": [
      "Add:\n",
      "5\n",
      "Subtract:\n",
      "-3.0\n",
      "Multiply:\n",
      "4.0\n",
      "Divide:\n",
      "0.25\n",
      "\n",
      "[[ 8  9  8]\n",
      " [ 3  5 12]\n",
      " [ 4 11  2]]\n",
      "\n",
      "[[ 8  5 12]\n",
      " [ 9 14  9]\n",
      " [ 8 11 11]]\n",
      "\n",
      "Adding 2d arrays\n",
      "[[16 14 20]\n",
      " [12 19 21]\n",
      " [12 22 13]]\n"
     ]
    }
   ],
   "source": [
    "# Q15. Write a Python program to add, subtract, multiply, divide arguments element-wise.\n",
    "print(\"Add:\")\n",
    "print(np.add(1, 4))\n",
    "print(\"Subtract:\")\n",
    "print(np.subtract(1.0, 4.0))\n",
    "print(\"Multiply:\")\n",
    "print(np.multiply(1.0, 4.0))\n",
    "print(\"Divide:\")\n",
    "print(np.divide(1.0, 4.0))\n",
    "print()\n",
    "\n",
    "a = np.random.randint(1,15, (3,3))\n",
    "b = np.random.randint(5, 15, (3,3))\n",
    "print(a)\n",
    "print()\n",
    "print(b)\n",
    "print()\n",
    "print('Adding 2d arrays')\n",
    "print(np.add(a,b))"
   ]
  },
  {
   "cell_type": "code",
   "execution_count": 78,
   "metadata": {},
   "outputs": [
    {
     "name": "stdout",
     "output_type": "stream",
     "text": [
      "Yestraday:  2021-07-12\n",
      "Today:  2021-07-13\n",
      "Tomorrow:  2021-07-14\n"
     ]
    }
   ],
   "source": [
    "# Q16. Write a Python program to get the dates of yesterday, today and tomorrow.\n",
    "yesterday = np.datetime64('today', 'D') - np.timedelta64(1, 'D')\n",
    "print(\"Yestraday: \",yesterday)\n",
    "today = np.datetime64('today', 'D')\n",
    "print(\"Today: \",today)\n",
    "tomorrow = np.datetime64('today', 'D') + np.timedelta64(1,\n",
    "'D')\n",
    "print(\"Tomorrow: \",tomorrow)"
   ]
  },
  {
   "cell_type": "code",
   "execution_count": 79,
   "metadata": {},
   "outputs": [
    {
     "name": "stdout",
     "output_type": "stream",
     "text": [
      "[-0.24952597  0.11598346]\n"
     ]
    }
   ],
   "source": [
    "#Q17. Compute bootstrapped 95% confidence intervals for the mean of a 1D array X (i.e.,\n",
    "#resample the elements of an array with replacement N times, compute the mean of each sample,and then compute percentiles\n",
    "# over the means).\n",
    "X = np.random.randn(100) # random 1D array\n",
    "N = 1000 # number of bootstrap samples\n",
    "idx = np.random.randint(0, X.size, (N, X.size))\n",
    "means = X[idx].mean(axis=1)\n",
    "confint = np.percentile(means, [2.5, 97.5])\n",
    "print(confint)"
   ]
  }
 ],
 "metadata": {
  "kernelspec": {
   "display_name": "Python 3",
   "language": "python",
   "name": "python3"
  },
  "language_info": {
   "codemirror_mode": {
    "name": "ipython",
    "version": 3
   },
   "file_extension": ".py",
   "mimetype": "text/x-python",
   "name": "python",
   "nbconvert_exporter": "python",
   "pygments_lexer": "ipython3",
   "version": "3.8.5"
  }
 },
 "nbformat": 4,
 "nbformat_minor": 4
}
